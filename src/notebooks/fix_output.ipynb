{
 "nbformat": 4,
 "nbformat_minor": 0,
 "metadata": {
  "colab": {
   "provenance": []
  },
  "kernelspec": {
   "name": "python3",
   "display_name": "Python 3"
  },
  "language_info": {
   "name": "python"
  }
 },
 "cells": [
  {
   "cell_type": "markdown",
   "source": [
    "## Sequential COT LlaMA"
   ],
   "metadata": {
    "id": "3txEtn_zVvwB",
    "pycharm": {
     "name": "#%% md\n"
    }
   }
  },
  {
   "cell_type": "code",
   "source": [
    "import pandas as pd\n",
    "import os\n",
    "import sys\n",
    "sys.path.append('..')\n",
    "from scripts import utils"
   ],
   "metadata": {
    "id": "k8qOLh9XkUeA",
    "pycharm": {
     "name": "#%%\n"
    }
   },
   "execution_count": 3,
   "outputs": []
  },
  {
   "cell_type": "code",
   "execution_count": null,
   "metadata": {
    "id": "3L1z50r1Hh5Q",
    "colab": {
     "base_uri": "https://localhost:8080/"
    },
    "outputId": "cc54cbb9-11cc-4e45-fec7-34c6502e1a01",
    "pycharm": {
     "name": "#%%\n"
    }
   },
   "outputs": [
    {
     "output_type": "stream",
     "name": "stdout",
     "text": [
      "   index                              y_actual  \\\n",
      "0      0                      hemolytic anemia   \n",
      "1      1  vitamin b12/folate deficiency anemia   \n",
      "2      2                iron deficiency anemia   \n",
      "3      3                             no anemia   \n",
      "4      4                inconclusive diagnosis   \n",
      "\n",
      "                                 y_pred  \\\n",
      "0                      hemolytic anemia   \n",
      "1  vitamin b12/folate deficiency anemia   \n",
      "2                iron deficiency anemia   \n",
      "3                inconclusive diagnosis   \n",
      "4                inconclusive diagnosis   \n",
      "\n",
      "                                             pathway  \n",
      "0  hemoglobin, 7.12 g/dl, gender, female, mean co...  \n",
      "1  hemoglobin, 8.13 g/dl, gender, female, mean co...  \n",
      "2  hemoglobin, 11.31 g/dl, gender, female, mean c...  \n",
      "3  hemoglobin, 13.76 g/dl, hemoglobin, 13.76 g/dl...  \n",
      "4  hemoglobin, 11.46 g/dl, gender, female, mean c...  \n"
     ]
    }
   ],
   "source": [
    "file_path = 'output/cleaned/pathways_COTSequential_llama_correct.csv'\n",
    "df = pd.read_csv(file_path)\n",
    "\n",
    "print(df.head())"
   ]
  },
  {
   "cell_type": "code",
   "source": [
    "print(df.columns)\n"
   ],
   "metadata": {
    "colab": {
     "base_uri": "https://localhost:8080/"
    },
    "id": "NmdQXgbsVTRR",
    "outputId": "8e369546-b3bd-4f7e-fda3-7787f5eddeaa",
    "pycharm": {
     "name": "#%%\n"
    }
   },
   "execution_count": null,
   "outputs": [
    {
     "output_type": "stream",
     "name": "stdout",
     "text": [
      "Index(['index', 'y_actual', 'y_pred', 'pathway'], dtype='object')\n"
     ]
    }
   ]
  },
  {
   "cell_type": "code",
   "source": [
    "acc_r, f1_r, roc_auc_r = utils.test(df.y_actual, df.y_pred)\n",
    "acc_r, f1_r, roc_auc_r"
   ],
   "metadata": {
    "colab": {
     "base_uri": "https://localhost:8080/"
    },
    "id": "8VAFMP_3UpDv",
    "outputId": "b9ded904-4fcc-43d4-e546-aae3854a171d",
    "pycharm": {
     "name": "#%%\n"
    }
   },
   "execution_count": null,
   "outputs": [
    {
     "output_type": "execute_result",
     "data": {
      "text/plain": [
       "(61.4, 62.98636143888182, 78.62389495589802)"
      ]
     },
     "metadata": {},
     "execution_count": 11
    }
   ]
  },
  {
   "cell_type": "code",
   "source": [
    "file_path = 'output/cleaned/pathways_COTSequential_llama_cleaned.csv'\n",
    "df = pd.read_csv(file_path)\n",
    "\n",
    "print(df.head())"
   ],
   "metadata": {
    "colab": {
     "base_uri": "https://localhost:8080/"
    },
    "id": "kFXOH8ov8tZY",
    "outputId": "1decc6d2-180e-47ff-c32d-206a8956e1ac",
    "pycharm": {
     "name": "#%%\n"
    }
   },
   "execution_count": 4,
   "outputs": [
    {
     "output_type": "stream",
     "name": "stdout",
     "text": [
      "                                             pathway\n",
      "0  hemoglobin, gender, mean corpuscular volume, r...\n",
      "1  hemoglobin, gender, mean corpuscular volume, s...\n",
      "2  hemoglobin, gender, mean corpuscular volume, f...\n",
      "3  hemoglobin, gender, mean corpuscular volume, f...\n",
      "4  hemoglobin, gender, mean corpuscular volume, s...\n"
     ]
    }
   ]
  },
  {
   "cell_type": "code",
   "source": [
    "mean = utils.ep_length(df)\n",
    "print(\"Episode length is:\", mean)"
   ],
   "metadata": {
    "colab": {
     "base_uri": "https://localhost:8080/"
    },
    "id": "hxKKhFrk7Pdc",
    "outputId": "71478246-f215-4884-c0bb-80d2c5d7f612",
    "pycharm": {
     "name": "#%%\n"
    }
   },
   "execution_count": 5,
   "outputs": [
    {
     "output_type": "stream",
     "name": "stdout",
     "text": [
      "Episode length is: 6.105105105105105\n"
     ]
    }
   ]
  },
  {
   "cell_type": "markdown",
   "source": [
    "## Sequential COT Mistral"
   ],
   "metadata": {
    "id": "tEkarjH4kBYU",
    "pycharm": {
     "name": "#%% md\n"
    }
   }
  },
  {
   "cell_type": "code",
   "source": [
    "file_path = 'output/cleaned/pathways_COTSequential_mistral_correct.csv'\n",
    "df = pd.read_csv(file_path)\n",
    "\n",
    "print(df.head())"
   ],
   "metadata": {
    "colab": {
     "base_uri": "https://localhost:8080/"
    },
    "id": "sdR3xt3wkF2_",
    "outputId": "31b9ddda-804c-48cb-fca6-94395749ef37",
    "pycharm": {
     "name": "#%%\n"
    }
   },
   "execution_count": null,
   "outputs": [
    {
     "output_type": "stream",
     "name": "stdout",
     "text": [
      "   Unnamed: 0                              y_actual  \\\n",
      "0           0                      hemolytic anemia   \n",
      "1           1  vitamin b12/folate deficiency anemia   \n",
      "2           2                iron deficiency anemia   \n",
      "3           3                             no anemia   \n",
      "4           4                inconclusive diagnosis   \n",
      "\n",
      "                                 y_pred  \\\n",
      "0  vitamin b12/folate deficiency anemia   \n",
      "1                       aplastic anemia   \n",
      "2                iron deficiency anemia   \n",
      "3                             no anemia   \n",
      "4                             no anemia   \n",
      "\n",
      "                                             pathway  \n",
      "0  hemoglobin, 7.12 g/dl, gender, female, mean co...  \n",
      "1  hemoglobin, 8.13 g/dl, gender, female, mean co...  \n",
      "2  hemoglobin, 11.31 g/dl, ferritin, 38.32 ng/ml,...  \n",
      "3                  hemoglobin, 13.76 g/dl, no anemia  \n",
      "4  hemoglobin, 11.46 g/dl, gender, female, no anemia  \n"
     ]
    }
   ]
  },
  {
   "cell_type": "code",
   "source": [
    "acc_r, f1_r, roc_auc_r = utils.test(df.y_actual, df.y_pred)\n",
    "acc_r, f1_r, roc_auc_r"
   ],
   "metadata": {
    "colab": {
     "base_uri": "https://localhost:8080/"
    },
    "id": "_9ZN8GGykKtf",
    "outputId": "1da62dd7-dafe-494b-c800-adb1b77cf76f",
    "pycharm": {
     "name": "#%%\n"
    }
   },
   "execution_count": null,
   "outputs": [
    {
     "output_type": "execute_result",
     "data": {
      "text/plain": [
       "(24.9, 20.88356570271132, 56.89742907220059)"
      ]
     },
     "metadata": {},
     "execution_count": 4
    }
   ]
  },
  {
   "cell_type": "code",
   "source": [
    "file_path = 'output/cleaned/pathways_COTSequential_mistral_cleaned.csv'\n",
    "df = pd.read_csv(file_path)\n",
    "\n",
    "print(df.head())"
   ],
   "metadata": {
    "colab": {
     "base_uri": "https://localhost:8080/"
    },
    "id": "qBTRXacw7QdH",
    "outputId": "d71746a1-f44a-47e9-8de6-cb19788ec77b",
    "pycharm": {
     "name": "#%%\n"
    }
   },
   "execution_count": 6,
   "outputs": [
    {
     "output_type": "stream",
     "name": "stdout",
     "text": [
      "                                             pathway\n",
      "0  hemoglobin, gender, mean corpuscular volume, s...\n",
      "1  hemoglobin, gender, mean corpuscular volume, a...\n",
      "2       hemoglobin, ferritin, iron deficiency anemia\n",
      "3                              hemoglobin, no anemia\n",
      "4                      hemoglobin, gender, no anemia\n"
     ]
    }
   ]
  },
  {
   "cell_type": "code",
   "source": [
    "mean = utils.ep_length(df)\n",
    "print(\"Episode length is:\", mean)"
   ],
   "metadata": {
    "colab": {
     "base_uri": "https://localhost:8080/"
    },
    "id": "XJAkaHf89Jrx",
    "outputId": "3a828fd0-54e4-415d-964f-ed0b593a0efd",
    "pycharm": {
     "name": "#%%\n"
    }
   },
   "execution_count": 7,
   "outputs": [
    {
     "output_type": "stream",
     "name": "stdout",
     "text": [
      "Episode length is: 3.130260521042084\n"
     ]
    }
   ]
  },
  {
   "cell_type": "markdown",
   "source": [
    "## Sequential COT ChatGPT"
   ],
   "metadata": {
    "id": "IpIxjeHuloDK",
    "pycharm": {
     "name": "#%% md\n"
    }
   }
  },
  {
   "cell_type": "code",
   "source": [
    "file_path = 'output/cleaned/chatgpt_seq_cot_correct.csv'\n",
    "df = pd.read_csv(file_path)\n",
    "\n",
    "print(df.head())"
   ],
   "metadata": {
    "colab": {
     "base_uri": "https://localhost:8080/"
    },
    "id": "GymrEafEYn6E",
    "outputId": "982d4eb2-996d-400d-87ca-ba38d167bf2f",
    "pycharm": {
     "name": "#%%\n"
    }
   },
   "execution_count": 2,
   "outputs": [
    {
     "output_type": "stream",
     "name": "stdout",
     "text": [
      "                               y_actual                                y_pred  \\\n",
      "0                      hemolytic anemia                      hemolytic anemia   \n",
      "1  vitamin b12/folate deficiency anemia  vitamin b12/folate deficiency anemia   \n",
      "2                iron deficiency anemia                iron deficiency anemia   \n",
      "3                             no anemia                             no anemia   \n",
      "4                inconclusive diagnosis                inconclusive diagnosis   \n",
      "\n",
      "                                             pathway  \\\n",
      "0  Please provide the hemoglobin value. | hemoglo...   \n",
      "1  Please provide the hemoglobin value. | hemoglo...   \n",
      "2  Please provide the hemoglobin value. | hemoglo...   \n",
      "3  Please provide the hemoglobin value. | hemoglo...   \n",
      "4  Please provide the hemoglobin value. | hemoglo...   \n",
      "\n",
      "                                message  \n",
      "0                      hemolytic anemia  \n",
      "1  vitamin b12/folate deficiency anemia  \n",
      "2                iron deficiency anemia  \n",
      "3                             no anemia  \n",
      "4                inconclusive diagnosis  \n"
     ]
    }
   ]
  },
  {
   "cell_type": "code",
   "source": [
    "acc_r, f1_r, roc_auc_r = utils.test(df.y_actual, df.y_pred)\n",
    "acc_r, f1_r, roc_auc_r"
   ],
   "metadata": {
    "colab": {
     "base_uri": "https://localhost:8080/"
    },
    "id": "OV1lOp-wYp0U",
    "outputId": "0d3ebf2a-e766-48c9-d775-47c56ec046b2",
    "pycharm": {
     "name": "#%%\n"
    }
   },
   "execution_count": 3,
   "outputs": [
    {
     "output_type": "execute_result",
     "data": {
      "text/plain": [
       "(98.4, 98.21221512826386, 99.09314633991359)"
      ]
     },
     "metadata": {},
     "execution_count": 3
    }
   ]
  },
  {
   "cell_type": "code",
   "source": [
    "file_path = 'output/original/pathways_COTsequential_chatgpt.csv'\n",
    "df = pd.read_csv(file_path)\n",
    "\n",
    "print(df.head())"
   ],
   "metadata": {
    "colab": {
     "base_uri": "https://localhost:8080/"
    },
    "id": "7SXHDH877RgV",
    "outputId": "525c99be-0dcc-41dc-b214-63b95c597b7d",
    "pycharm": {
     "name": "#%%\n"
    }
   },
   "execution_count": 8,
   "outputs": [
    {
     "output_type": "stream",
     "name": "stdout",
     "text": [
      "                                             pathway\n",
      "0  hemoglobin, mean corpuscular volume, reticuloc...\n",
      "1  hemoglobin, mean corpuscular volume, segmented...\n",
      "2  hemoglobin, mean corpuscular volume, ferritin,...\n",
      "3                              hemoglobin, no anemia\n",
      "4  hemoglobin, mean corpuscular volume, segmented...\n"
     ]
    }
   ]
  },
  {
   "cell_type": "code",
   "source": [
    "mean = utils.ep_length(df)\n",
    "print(\"Episode length is:\", mean)"
   ],
   "metadata": {
    "colab": {
     "base_uri": "https://localhost:8080/"
    },
    "id": "l0SipTmw9g-f",
    "outputId": "4c1e6edd-8566-4f4d-e2c5-01c63d82ba2f",
    "pycharm": {
     "name": "#%%\n"
    }
   },
   "execution_count": 9,
   "outputs": [
    {
     "output_type": "stream",
     "name": "stdout",
     "text": [
      "Episode length is: 4.088\n"
     ]
    }
   ]
  }
 ]
}