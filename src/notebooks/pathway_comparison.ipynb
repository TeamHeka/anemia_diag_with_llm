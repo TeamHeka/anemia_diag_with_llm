{
 "nbformat": 4,
 "nbformat_minor": 0,
 "metadata": {
  "colab": {
   "provenance": []
  },
  "kernelspec": {
   "name": "python3",
   "display_name": "Python 3"
  },
  "language_info": {
   "name": "python"
  }
 },
 "cells": [
  {
   "cell_type": "code",
   "execution_count": 2,
   "metadata": {
    "id": "Z6I_nY27eWLN",
    "pycharm": {
     "name": "#%%\n"
    }
   },
   "outputs": [],
   "source": [
    "import sys\n",
    "sys.path.append('..')\n",
    "from scripts import utils\n",
    "import pandas as pd\n",
    "from scripts import constants"
   ]
  },
  {
   "cell_type": "code",
   "source": [
    "file_paths = [\n",
    "    'output/original/patient_pathways_dqn.csv',\n",
    "    'output/cleaned/pathways_COTSequential_llama_cleaned.csv',\n",
    "    'output/cleaned/pathways_COTSequential_mistral_cleaned.csv',\n",
    "    'output/original/pathways_COTsequential_chatgpt.csv'\n",
    "]\n",
    "for file_path in file_paths:\n",
    "    utils.process_csv_file(file_path)"
   ],
   "metadata": {
    "colab": {
     "base_uri": "https://localhost:8080/"
    },
    "id": "GvzvXx2xmFEt",
    "outputId": "22c079a7-56a4-4cc9-fdae-2968b684a8e5",
    "pycharm": {
     "name": "#%%\n"
    }
   },
   "execution_count": 3,
   "outputs": [
    {
     "output_type": "stream",
     "name": "stdout",
     "text": [
      "Cleaned data has been saved to patient_pathways_dqn.csv\n",
      "Cleaned data has been saved to pathways_COTSequential_llama_cleaned.csv\n",
      "Cleaned data has been saved to pathways_COTSequential_mistral_cleaned.csv\n",
      "Cleaned data has been saved to pathways_COTsequential_chatgpt.csv\n"
     ]
    }
   ]
  },
  {
   "cell_type": "code",
   "source": [
    "data_dqn = pd.read_csv('output/original/patient_pathways_dqn.csv')\n",
    "data_llama = pd.read_csv('output/cleaned/pathways_COTSequential_llama_cleaned.csv')\n",
    "data_mistral = pd.read_csv('output/cleaned/pathways_COTSequential_mistral_cleaned.csv')\n",
    "data_chatgpt = pd.read_csv('output/original/pathways_COTsequential_chatgpt.csv')"
   ],
   "metadata": {
    "id": "rKhxcckomXll",
    "pycharm": {
     "name": "#%%\n"
    }
   },
   "execution_count": 4,
   "outputs": []
  },
  {
   "cell_type": "code",
   "source": [
    "print(\"Data DQN model:\")\n",
    "print(data_dqn.head())\n",
    "\n",
    "print(\"\\nData Llama model:\")\n",
    "print(data_llama.head())\n",
    "\n",
    "print(\"\\nData Mistral model:\")\n",
    "print(data_mistral.head())\n",
    "\n",
    "print(\"\\nData Chatgpt model:\")\n",
    "print(data_chatgpt.head())"
   ],
   "metadata": {
    "colab": {
     "base_uri": "https://localhost:8080/"
    },
    "id": "8h2gOqOpmcGE",
    "outputId": "f2e96b85-14fa-4a47-9c9c-3fb362673550",
    "pycharm": {
     "name": "#%%\n"
    }
   },
   "execution_count": 5,
   "outputs": [
    {
     "output_type": "stream",
     "name": "stdout",
     "text": [
      "Data DQN model:\n",
      "                                             pathway\n",
      "0  hemoglobin, gender, rbc, ret_count, hemolytic ...\n",
      "1  hemoglobin, gender, rbc, mcv, segmented_neutro...\n",
      "2  hemoglobin, rbc, mcv, ferritin, hematocrit, ti...\n",
      "3                              hemoglobin, no anemia\n",
      "4  hemoglobin, gender, rbc, mcv, segmented_neutro...\n",
      "\n",
      "Data Llama model:\n",
      "                                             pathway\n",
      "0  hemoglobin, gender, mean corpuscular volume, r...\n",
      "1  hemoglobin, gender, mean corpuscular volume, s...\n",
      "2  hemoglobin, gender, mean corpuscular volume, f...\n",
      "3  hemoglobin, gender, mean corpuscular volume, f...\n",
      "4  hemoglobin, gender, mean corpuscular volume, s...\n",
      "\n",
      "Data Mistral model:\n",
      "                                             pathway\n",
      "0  hemoglobin, gender, mean corpuscular volume, s...\n",
      "1  hemoglobin, gender, mean corpuscular volume, a...\n",
      "2       hemoglobin, ferritin, iron deficiency anemia\n",
      "3                              hemoglobin, no anemia\n",
      "4                      hemoglobin, gender, no anemia\n",
      "\n",
      "Data Chatgpt model:\n",
      "                                             pathway\n",
      "0  hemoglobin, mean corpuscular volume, reticuloc...\n",
      "1  hemoglobin, mean corpuscular volume, segmented...\n",
      "2  hemoglobin, mean corpuscular volume, ferritin,...\n",
      "3                              hemoglobin, no anemia\n",
      "4  hemoglobin, mean corpuscular volume, segmented...\n"
     ]
    }
   ]
  },
  {
   "cell_type": "markdown",
   "source": [
    "Longest common subsequence"
   ],
   "metadata": {
    "id": "8WMSny5qmnLe",
    "pycharm": {
     "name": "#%% md\n"
    }
   }
  },
  {
   "cell_type": "code",
   "source": [
    "print(\"DQN Model\")\n",
    "utils.mine_longest_patterns_by_class(data_dqn, min_support=10)"
   ],
   "metadata": {
    "colab": {
     "base_uri": "https://localhost:8080/"
    },
    "id": "GFhXAs1PmdMR",
    "outputId": "4f8bf5f9-bd9a-47eb-806e-5dadfffa7137",
    "pycharm": {
     "name": "#%%\n"
    }
   },
   "execution_count": 6,
   "outputs": [
    {
     "output_type": "stream",
     "name": "stdout",
     "text": [
      "DQN Model\n",
      "Number of sequences: 1000\n",
      "\n",
      "Class 'no anemia':\n",
      "Number of sequences: 157\n",
      "Longest Common Subsequences of Length 4 :\n",
      "Pattern: ['hemoglobin', 'hematocrit', 'gender', 'no anemia'] Support: 41\n",
      "\n",
      "Class 'vitamin b12/folate deficiency anemia':\n",
      "Number of sequences: 125\n",
      "Longest Common Subsequences of Length 6 :\n",
      "Pattern: ['hemoglobin', 'gender', 'rbc', 'mcv', 'segmented_neutrophils', 'vitamin b12/folate deficiency anemia'] Support: 17\n",
      "Pattern: ['hemoglobin', 'gender', 'rbc', 'segmented_neutrophils', 'mcv', 'vitamin b12/folate deficiency anemia'] Support: 52\n",
      "\n",
      "Class 'unspecified anemia':\n",
      "Number of sequences: 126\n",
      "Longest Common Subsequences of Length 6 :\n",
      "Pattern: ['hemoglobin', 'gender', 'rbc', 'mcv', 'segmented_neutrophils', 'unspecified anemia'] Support: 20\n",
      "\n",
      "Class 'anemia of chronic disease':\n",
      "Number of sequences: 118\n",
      "Longest Common Subsequences of Length 6 :\n",
      "Pattern: ['hemoglobin', 'rbc', 'ferritin', 'hematocrit', 'mcv', 'anemia of chronic disease'] Support: 12\n",
      "\n",
      "Class 'iron deficiency anemia':\n",
      "Number of sequences: 122\n",
      "Longest Common Subsequences of Length 8 :\n",
      "Pattern: ['hemoglobin', 'gender', 'rbc', 'ferritin', 'tibc', 'mcv', 'hematocrit', 'iron deficiency anemia'] Support: 10\n",
      "\n",
      "Class 'hemolytic anemia':\n",
      "Number of sequences: 134\n",
      "Longest Common Subsequences of Length 5 :\n",
      "Pattern: ['hemoglobin', 'gender', 'rbc', 'ret_count', 'hemolytic anemia'] Support: 75\n",
      "\n",
      "Class 'aplastic anemia':\n",
      "Number of sequences: 127\n",
      "Longest Common Subsequences of Length 5 :\n",
      "Pattern: ['hemoglobin', 'gender', 'rbc', 'ret_count', 'aplastic anemia'] Support: 64\n",
      "\n",
      "Class 'inconclusive diagnosis':\n",
      "Number of sequences: 91\n",
      "Longest Common Subsequences of Length 5 :\n",
      "Pattern: ['hemoglobin', 'gender', 'rbc', 'segmented_neutrophils', 'inconclusive diagnosis'] Support: 14\n",
      "Pattern: ['hemoglobin', 'gender', 'rbc', 'ferritin', 'inconclusive diagnosis'] Support: 22\n",
      "Pattern: ['hemoglobin', 'gender', 'rbc', 'ret_count', 'inconclusive diagnosis'] Support: 14\n",
      "Pattern: ['hemoglobin', 'rbc', 'ferritin', 'tibc', 'inconclusive diagnosis'] Support: 17\n"
     ]
    }
   ]
  },
  {
   "cell_type": "code",
   "source": [
    "print(\"\\nLLama Model\")\n",
    "#utils.mine_longest_patterns(data_llama)\n",
    "utils.mine_longest_patterns_by_class(data_llama, min_support=10)"
   ],
   "metadata": {
    "colab": {
     "base_uri": "https://localhost:8080/"
    },
    "id": "1fKCYOVqTPrS",
    "outputId": "52e1a05b-fed6-4aad-87c3-8ecb52477b3c",
    "pycharm": {
     "name": "#%%\n"
    }
   },
   "execution_count": 7,
   "outputs": [
    {
     "output_type": "stream",
     "name": "stdout",
     "text": [
      "\n",
      "LLama Model\n",
      "Number of sequences: 999\n",
      "\n",
      "Class 'no anemia':\n",
      "Number of sequences: 70\n",
      "Longest Common Subsequences of Length 3 :\n",
      "Pattern: ['hemoglobin', 'gender', 'no anemia'] Support: 26\n",
      "\n",
      "Class 'vitamin b12/folate deficiency anemia':\n",
      "Number of sequences: 105\n",
      "Longest Common Subsequences of Length 6 :\n",
      "Pattern: ['hemoglobin', 'gender', 'mean corpuscular volume', 'segmented neutrophils', 'segmented neutrophils', 'vitamin b12/folate deficiency anemia'] Support: 46\n",
      "\n",
      "Class 'unspecified anemia':\n",
      "Number of sequences: 115\n",
      "Longest Common Subsequences of Length 6 :\n",
      "Pattern: ['hemoglobin', 'gender', 'mean corpuscular volume', 'segmented neutrophils', 'segmented neutrophils', 'unspecified anemia'] Support: 30\n",
      "\n",
      "Class 'anemia of chronic disease':\n",
      "Number of sequences: 91\n",
      "Longest Common Subsequences of Length 6 :\n",
      "Pattern: ['hemoglobin', 'gender', 'mean corpuscular volume', 'ferritin', 'ferritin', 'anemia of chronic disease'] Support: 22\n",
      "\n",
      "Class 'iron deficiency anemia':\n",
      "Number of sequences: 90\n",
      "Longest Common Subsequences of Length 6 :\n",
      "Pattern: ['hemoglobin', 'gender', 'mean corpuscular volume', 'ferritin', 'ferritin', 'iron deficiency anemia'] Support: 20\n",
      "\n",
      "Class 'hemolytic anemia':\n",
      "Number of sequences: 184\n",
      "Longest Common Subsequences of Length 7 :\n",
      "Pattern: ['hemoglobin', 'gender', 'mean corpuscular volume', 'reticulocyte count', 'reticulocyte count', 'reticulocyte count', 'hemolytic anemia'] Support: 11\n",
      "\n",
      "Class 'aplastic anemia':\n",
      "Number of sequences: 103\n",
      "Longest Common Subsequences of Length 7 :\n",
      "Pattern: ['hemoglobin', 'gender', 'mean corpuscular volume', 'reticulocyte count', 'reticulocyte count', 'reticulocyte count', 'aplastic anemia'] Support: 12\n",
      "\n",
      "Class 'inconclusive diagnosis':\n",
      "Number of sequences: 234\n",
      "Longest Common Subsequences of Length 11 :\n",
      "Pattern: ['hemoglobin', 'gender', 'mean corpuscular volume', 'ferritin', 'ferritin', 'ferritin', 'ferritin', 'ferritin', 'ferritin', 'ferritin', 'inconclusive diagnosis'] Support: 21\n"
     ]
    }
   ]
  },
  {
   "cell_type": "code",
   "source": [
    "print(\"\\nMistral Model\")\n",
    "#utils.mine_longest_patterns(data_mistral)\n",
    "utils.mine_longest_patterns_by_class(data_mistral, min_support=10)"
   ],
   "metadata": {
    "colab": {
     "base_uri": "https://localhost:8080/"
    },
    "id": "HgNL4x0bTUrH",
    "outputId": "46035722-c2b6-48e7-c3af-493692448651",
    "pycharm": {
     "name": "#%%\n"
    }
   },
   "execution_count": 8,
   "outputs": [
    {
     "output_type": "stream",
     "name": "stdout",
     "text": [
      "\n",
      "Mistral Model\n",
      "Number of sequences: 998\n",
      "\n",
      "Class 'no anemia':\n",
      "Number of sequences: 506\n",
      "Longest Common Subsequences of Length 3 :\n",
      "Pattern: ['hemoglobin', 'gender', 'no anemia'] Support: 326\n",
      "Pattern: ['hemoglobin', 'hemoglobin', 'no anemia'] Support: 12\n",
      "\n",
      "Class 'vitamin b12/folate deficiency anemia':\n",
      "Number of sequences: 70\n",
      "Longest Common Subsequences of Length 5 :\n",
      "Pattern: ['hemoglobin', 'gender', 'mean corpuscular volume', 'segmented neutrophils', 'vitamin b12/folate deficiency anemia'] Support: 18\n",
      "\n",
      "Class 'unspecified anemia':\n",
      "Number of sequences: 13\n",
      "Longest Common Subsequences of Length 3 :\n",
      "Pattern: ['hemoglobin', 'gender', 'unspecified anemia'] Support: 11\n",
      "Pattern: ['hemoglobin', 'mean corpuscular volume', 'unspecified anemia'] Support: 11\n",
      "\n",
      "Class 'anemia of chronic disease':\n",
      "Number of sequences: 31\n",
      "Longest Common Subsequences of Length 4 :\n",
      "Pattern: ['hemoglobin', 'gender', 'mean corpuscular volume', 'anemia of chronic disease'] Support: 16\n",
      "Pattern: ['hemoglobin', 'gender', 'ferritin', 'anemia of chronic disease'] Support: 10\n",
      "Pattern: ['hemoglobin', 'mean corpuscular volume', 'ferritin', 'anemia of chronic disease'] Support: 13\n",
      "\n",
      "Class 'iron deficiency anemia':\n",
      "Number of sequences: 71\n",
      "Longest Common Subsequences of Length 4 :\n",
      "Pattern: ['hemoglobin', 'gender', 'mean corpuscular volume', 'iron deficiency anemia'] Support: 16\n",
      "\n",
      "Class 'hemolytic anemia':\n",
      "Number of sequences: 68\n",
      "Longest Common Subsequences of Length 5 :\n",
      "Pattern: ['hemoglobin', 'gender', 'mean corpuscular volume', 'reticulocyte count', 'hemolytic anemia'] Support: 19\n",
      "\n",
      "Class 'aplastic anemia':\n",
      "Number of sequences: 76\n",
      "Longest Common Subsequences of Length 4 :\n",
      "Pattern: ['hemoglobin', 'gender', 'mean corpuscular volume', 'aplastic anemia'] Support: 22\n",
      "\n",
      "Class 'inconclusive diagnosis':\n",
      "Number of sequences: 81\n",
      "Longest Common Subsequences of Length 5 :\n",
      "Pattern: ['hemoglobin', 'gender', 'mean corpuscular volume', 'segmented neutrophils', 'inconclusive diagnosis'] Support: 10\n",
      "Pattern: ['hemoglobin', 'gender', 'mean corpuscular volume', 'reticulocyte count', 'inconclusive diagnosis'] Support: 12\n"
     ]
    }
   ]
  },
  {
   "cell_type": "code",
   "source": [
    "print(\"\\nChatgpt Model\")\n",
    "#utils.mine_longest_patterns(data_chatgpt)\n",
    "utils.mine_longest_patterns_by_class(data_chatgpt, min_support=10)"
   ],
   "metadata": {
    "colab": {
     "base_uri": "https://localhost:8080/"
    },
    "id": "o2v6GDaNTZlm",
    "outputId": "bc61426a-b9d7-4eb3-e8a7-2b93c0b9fd9c",
    "pycharm": {
     "name": "#%%\n"
    }
   },
   "execution_count": 9,
   "outputs": [
    {
     "output_type": "stream",
     "name": "stdout",
     "text": [
      "\n",
      "Chatgpt Model\n",
      "Number of sequences: 250\n",
      "\n",
      "Class 'no anemia':\n",
      "Number of sequences: 32\n",
      "Longest Common Subsequences of Length 3 :\n",
      "Pattern: ['hemoglobin', 'gender', 'no anemia'] Support: 11\n",
      "\n",
      "Class 'vitamin b12/folate deficiency anemia':\n",
      "Number of sequences: 37\n",
      "Longest Common Subsequences of Length 4 :\n",
      "Pattern: ['hemoglobin', 'mean corpuscular volume', 'segmented neutrophils', 'vitamin b12/folate deficiency anemia'] Support: 37\n",
      "\n",
      "Class 'unspecified anemia':\n",
      "Number of sequences: 29\n",
      "Longest Common Subsequences of Length 4 :\n",
      "Pattern: ['hemoglobin', 'mean corpuscular volume', 'segmented neutrophils', 'unspecified anemia'] Support: 29\n",
      "\n",
      "Class 'anemia of chronic disease':\n",
      "Number of sequences: 31\n",
      "Longest Common Subsequences of Length 4 :\n",
      "Pattern: ['hemoglobin', 'mean corpuscular volume', 'ferritin', 'anemia of chronic disease'] Support: 31\n",
      "\n",
      "Class 'iron deficiency anemia':\n",
      "Number of sequences: 29\n",
      "Longest Common Subsequences of Length 5 :\n",
      "Pattern: ['hemoglobin', 'mean corpuscular volume', 'ferritin', 'total iron binding capacity', 'iron deficiency anemia'] Support: 16\n",
      "\n",
      "Class 'hemolytic anemia':\n",
      "Number of sequences: 40\n",
      "Longest Common Subsequences of Length 5 :\n",
      "Pattern: ['hemoglobin', 'gender', 'mean corpuscular volume', 'reticulocyte count', 'hemolytic anemia'] Support: 11\n",
      "\n",
      "Class 'aplastic anemia':\n",
      "Number of sequences: 34\n",
      "Longest Common Subsequences of Length 4 :\n",
      "Pattern: ['hemoglobin', 'mean corpuscular volume', 'reticulocyte count', 'aplastic anemia'] Support: 34\n",
      "\n",
      "Class 'inconclusive diagnosis':\n",
      "Number of sequences: 18\n",
      "Longest Common Subsequences of Length 4 :\n",
      "Pattern: ['hemoglobin', 'mean corpuscular volume', 'ferritin', 'inconclusive diagnosis'] Support: 11\n"
     ]
    }
   ]
  },
  {
   "cell_type": "markdown",
   "source": [
    "Levenshtein distance"
   ],
   "metadata": {
    "id": "TJGMHGcVmtbM",
    "pycharm": {
     "name": "#%% md\n"
    }
   }
  },
  {
   "cell_type": "code",
   "source": [
    "letter_dict1 = {string: chr(ord('A') + index) for index, string in enumerate(constants.map1)}\n",
    "letter_dict2 = {string: chr(ord('A') + index) for index, string in enumerate(constants.map2)}\n",
    "\n",
    "print(\"First dictionary:\")\n",
    "for key, value in letter_dict1.items():\n",
    "    print(f\"{value}: {key}\")\n",
    "\n",
    "print(\"\\nSecond dictionary\")\n",
    "for key, value in letter_dict2.items():\n",
    "    print(f\"{value}: {key}\")"
   ],
   "metadata": {
    "colab": {
     "base_uri": "https://localhost:8080/"
    },
    "id": "5vVbKCO6msz9",
    "outputId": "973a27fb-4eb3-4990-f5bd-6f67d351e0c9",
    "pycharm": {
     "name": "#%%\n"
    }
   },
   "execution_count": 10,
   "outputs": [
    {
     "output_type": "stream",
     "name": "stdout",
     "text": [
      "First dictionary:\n",
      "A: no anemia\n",
      "B: vitamin b12/folate deficiency anemia\n",
      "C: unspecified anemia\n",
      "D: anemia of chronic disease\n",
      "E: iron deficiency anemia\n",
      "F: hemolytic anemia\n",
      "G: aplastic anemia\n",
      "H: inconclusive diagnosis\n",
      "I: hemoglobin\n",
      "J: ferritin\n",
      "K: ret_count\n",
      "L: segmented_neutrophils\n",
      "M: tibc\n",
      "N: mcv\n",
      "O: gender\n",
      "P: serum_iron\n",
      "Q: rbc\n",
      "R: creatinine\n",
      "S: cholestrol\n",
      "T: copper\n",
      "U: ethanol\n",
      "V: folate\n",
      "W: glucose\n",
      "X: hematocrit\n",
      "Y: tsat\n",
      "Z: none\n",
      "\n",
      "Second dictionary\n",
      "A: no anemia\n",
      "B: vitamin b12/folate deficiency anemia\n",
      "C: unspecified anemia\n",
      "D: anemia of chronic disease\n",
      "E: iron deficiency anemia\n",
      "F: hemolytic anemia\n",
      "G: aplastic anemia\n",
      "H: inconclusive diagnosis\n",
      "I: hemoglobin\n",
      "J: ferritin\n",
      "K: reticulocyte count\n",
      "L: segmented neutrophils\n",
      "M: total iron binding capacity\n",
      "N: mean corpuscular volume\n",
      "O: gender\n",
      "P: none\n"
     ]
    }
   ]
  },
  {
   "cell_type": "code",
   "source": [
    "# Apply the function to convert pathways to letters\n",
    "dqn_df = utils.convert_pathways_to_letters(data_dqn, letter_dict1)\n",
    "llama_df = utils.convert_pathways_to_letters(data_llama, letter_dict2)\n",
    "mistral_df = utils.convert_pathways_to_letters(data_mistral, letter_dict2)\n",
    "chatgpt_df = utils.convert_pathways_to_letters(data_chatgpt, letter_dict2)\n",
    "\n",
    "dqn_df['pathway_letters'].head()"
   ],
   "metadata": {
    "colab": {
     "base_uri": "https://localhost:8080/",
     "height": 241
    },
    "id": "w7VCCzuXm6TD",
    "outputId": "7d371a30-105b-48be-96d1-d1b02b5d55a6",
    "pycharm": {
     "name": "#%%\n"
    }
   },
   "execution_count": 11,
   "outputs": [
    {
     "output_type": "execute_result",
     "data": {
      "text/plain": [
       "0       IOQKF\n",
       "1      IOQNLB\n",
       "2    IQNJXMOE\n",
       "3          IA\n",
       "4      IOQNLH\n",
       "Name: pathway_letters, dtype: object"
      ],
      "text/html": [
       "<table border=\"1\" class=\"dataframe\">\n",
       "  <thead>\n",
       "    <tr style=\"text-align: right;\">\n",
       "      <th></th>\n",
       "      <th>pathway_letters</th>\n",
       "    </tr>\n",
       "  </thead>\n",
       "  <tbody>\n",
       "    <tr>\n",
       "      <th>0</th>\n",
       "      <td>IOQKF</td>\n",
       "    </tr>\n",
       "    <tr>\n",
       "      <th>1</th>\n",
       "      <td>IOQNLB</td>\n",
       "    </tr>\n",
       "    <tr>\n",
       "      <th>2</th>\n",
       "      <td>IQNJXMOE</td>\n",
       "    </tr>\n",
       "    <tr>\n",
       "      <th>3</th>\n",
       "      <td>IA</td>\n",
       "    </tr>\n",
       "    <tr>\n",
       "      <th>4</th>\n",
       "      <td>IOQNLH</td>\n",
       "    </tr>\n",
       "  </tbody>\n",
       "</table><br><label><b>dtype:</b> object</label>"
      ]
     },
     "metadata": {},
     "execution_count": 11
    }
   ]
  },
  {
   "cell_type": "code",
   "source": [
    "print(dqn_df.iloc[0]['pathway_letters'])\n",
    "print(dqn_df.iloc[0]['pathway_letters'])"
   ],
   "metadata": {
    "id": "G8gXYJd8m9nM",
    "colab": {
     "base_uri": "https://localhost:8080/"
    },
    "outputId": "db2d3050-2231-4690-b1fd-0da59a1d1c29",
    "pycharm": {
     "name": "#%%\n"
    }
   },
   "execution_count": 12,
   "outputs": [
    {
     "output_type": "stream",
     "name": "stdout",
     "text": [
      "IOQKF\n",
      "IOQKF\n"
     ]
    }
   ]
  },
  {
   "cell_type": "markdown",
   "source": [
    "##### DQN vs LLaMA"
   ],
   "metadata": {
    "id": "7g-kMECNnAuu",
    "pycharm": {
     "name": "#%% md\n"
    }
   }
  },
  {
   "cell_type": "code",
   "source": [
    "mean_dl, max_dl = utils.compute_mean_distance_and_max_index_between_dataframes(dqn_df, llama_df, column_name='pathway_letters')\n",
    "\n",
    "print(mean_dl, max_dl)"
   ],
   "metadata": {
    "id": "GIyJsXDBnClv",
    "colab": {
     "base_uri": "https://localhost:8080/"
    },
    "outputId": "29f91d5a-2e7e-465c-a9f2-ab2fd7e10ac5",
    "pycharm": {
     "name": "#%%\n"
    }
   },
   "execution_count": 13,
   "outputs": [
    {
     "output_type": "stream",
     "name": "stdout",
     "text": [
      "4.113113113113113 330\n"
     ]
    }
   ]
  },
  {
   "cell_type": "markdown",
   "source": [
    "##### DQN vs Mistral"
   ],
   "metadata": {
    "id": "GRSscUkNnIxq",
    "pycharm": {
     "name": "#%% md\n"
    }
   }
  },
  {
   "cell_type": "code",
   "source": [
    "mean_dm, max_dm = utils.compute_mean_distance_and_max_index_between_dataframes(dqn_df, mistral_df, column_name='pathway_letters')\n",
    "\n",
    "print(mean_dm, max_dm)"
   ],
   "metadata": {
    "id": "K7BUR5oTnLcv",
    "colab": {
     "base_uri": "https://localhost:8080/"
    },
    "outputId": "5198f564-d913-473b-9efc-4416f7643c65",
    "pycharm": {
     "name": "#%%\n"
    }
   },
   "execution_count": 14,
   "outputs": [
    {
     "output_type": "stream",
     "name": "stdout",
     "text": [
      "3.3246492985971945 266\n"
     ]
    }
   ]
  },
  {
   "cell_type": "markdown",
   "source": [
    "##### DQN vs ChatGPT"
   ],
   "metadata": {
    "id": "YTzPL_qfnPKE",
    "pycharm": {
     "name": "#%% md\n"
    }
   }
  },
  {
   "cell_type": "code",
   "source": [
    "mean_dc, max_dc = utils.compute_mean_distance_and_max_index_between_dataframes(dqn_df, chatgpt_df, column_name='pathway_letters')\n",
    "print(mean_dc, max_dc)"
   ],
   "metadata": {
    "id": "3CaN1FTTnRGX",
    "colab": {
     "base_uri": "https://localhost:8080/"
    },
    "outputId": "6a46f9c5-f89b-4c18-ae96-8be597720fc3",
    "pycharm": {
     "name": "#%%\n"
    }
   },
   "execution_count": 15,
   "outputs": [
    {
     "output_type": "stream",
     "name": "stdout",
     "text": [
      "1.712 112\n"
     ]
    }
   ]
  },
  {
   "cell_type": "markdown",
   "source": [
    "##### LLaMA vs Mistral"
   ],
   "metadata": {
    "id": "x0u0FDrjnVch",
    "pycharm": {
     "name": "#%% md\n"
    }
   }
  },
  {
   "cell_type": "code",
   "source": [
    "mean_lm, max_lm = utils.compute_mean_distance_and_max_index_between_dataframes(llama_df, mistral_df, column_name='pathway_letters')\n",
    "\n",
    "print(mean_lm, max_lm)"
   ],
   "metadata": {
    "id": "ZJJRY1OrnX88",
    "colab": {
     "base_uri": "https://localhost:8080/"
    },
    "outputId": "4d39532f-683e-4282-ceb9-6b1c5fc41994",
    "pycharm": {
     "name": "#%%\n"
    }
   },
   "execution_count": 16,
   "outputs": [
    {
     "output_type": "stream",
     "name": "stdout",
     "text": [
      "4.342685370741483 27\n"
     ]
    }
   ]
  },
  {
   "cell_type": "markdown",
   "source": [
    "##### LLaMA vs ChatGPT"
   ],
   "metadata": {
    "id": "CZzlsupPnbIL",
    "pycharm": {
     "name": "#%% md\n"
    }
   }
  },
  {
   "cell_type": "code",
   "source": [
    "mean_lc, max_lc = utils.compute_mean_distance_and_max_index_between_dataframes(llama_df, chatgpt_df, column_name='pathway_letters')\n",
    "\n",
    "print(mean_lc, max_lc)"
   ],
   "metadata": {
    "id": "UozvJ3Q4nfUx",
    "colab": {
     "base_uri": "https://localhost:8080/"
    },
    "outputId": "2a699b7d-d726-4791-93b5-ecee1f4880a4",
    "pycharm": {
     "name": "#%%\n"
    }
   },
   "execution_count": 17,
   "outputs": [
    {
     "output_type": "stream",
     "name": "stdout",
     "text": [
      "2.86 159\n"
     ]
    }
   ]
  },
  {
   "cell_type": "markdown",
   "source": [
    "##### Mistral vs ChatGPT"
   ],
   "metadata": {
    "id": "X78wh6ygniA9",
    "pycharm": {
     "name": "#%% md\n"
    }
   }
  },
  {
   "cell_type": "code",
   "source": [
    "mean_mc, max_mc = utils.compute_mean_distance_and_max_index_between_dataframes(mistral_df, chatgpt_df, column_name='pathway_letters')\n",
    "\n",
    "print(mean_mc, max_mc)\n",
    "\n"
   ],
   "metadata": {
    "id": "fk15ZDzTmRRb",
    "colab": {
     "base_uri": "https://localhost:8080/"
    },
    "outputId": "5cf80165-97bb-4472-c381-df233855129c",
    "pycharm": {
     "name": "#%%\n"
    }
   },
   "execution_count": 18,
   "outputs": [
    {
     "output_type": "stream",
     "name": "stdout",
     "text": [
      "2.792 94\n"
     ]
    }
   ]
  },
  {
   "cell_type": "code",
   "source": [
    "print(dqn_df.iloc[330]['pathway_letters'])\n",
    "print(llama_df.iloc[330]['pathway_letters'])"
   ],
   "metadata": {
    "colab": {
     "base_uri": "https://localhost:8080/"
    },
    "id": "jBZloV3YuWRi",
    "outputId": "ed8f343d-9c26-4a05-d073-81bf12c01a79",
    "pycharm": {
     "name": "#%%\n"
    }
   },
   "execution_count": 19,
   "outputs": [
    {
     "output_type": "stream",
     "name": "stdout",
     "text": [
      "IQKF\n",
      "IIONJJJNJNH\n"
     ]
    }
   ]
  },
  {
   "cell_type": "code",
   "source": [
    "print(dqn_df.iloc[266]['pathway_letters'])\n",
    "print(mistral_df.iloc[266]['pathway_letters'])"
   ],
   "metadata": {
    "colab": {
     "base_uri": "https://localhost:8080/"
    },
    "id": "l4-rVf-OwnI3",
    "outputId": "c145950c-cf1b-44b2-eab0-5e2c478c4ee8",
    "pycharm": {
     "name": "#%%\n"
    }
   },
   "execution_count": 21,
   "outputs": [
    {
     "output_type": "stream",
     "name": "stdout",
     "text": [
      "IQJD\n",
      "IONKONONNNH\n"
     ]
    }
   ]
  },
  {
   "cell_type": "code",
   "source": [
    "print(dqn_df.iloc[112]['pathway_letters'])\n",
    "print(chatgpt_df.iloc[112]['pathway_letters'])"
   ],
   "metadata": {
    "colab": {
     "base_uri": "https://localhost:8080/"
    },
    "id": "bzqxmgxRwsSO",
    "outputId": "6e617379-5388-4ca3-bcd3-358122b15e75",
    "pycharm": {
     "name": "#%%\n"
    }
   },
   "execution_count": 22,
   "outputs": [
    {
     "output_type": "stream",
     "name": "stdout",
     "text": [
      "IQOJXND\n",
      "INKF\n"
     ]
    }
   ]
  },
  {
   "cell_type": "code",
   "source": [
    "print(llama_df.iloc[27]['pathway_letters'])\n",
    "print(mistral_df.iloc[27]['pathway_letters'])"
   ],
   "metadata": {
    "colab": {
     "base_uri": "https://localhost:8080/"
    },
    "id": "Fqu05eOxw98A",
    "outputId": "6e452faa-e960-4faf-9519-528bb054f5fd",
    "pycharm": {
     "name": "#%%\n"
    }
   },
   "execution_count": 23,
   "outputs": [
    {
     "output_type": "stream",
     "name": "stdout",
     "text": [
      "IONJJJJJJJH\n",
      "IA\n"
     ]
    }
   ]
  },
  {
   "cell_type": "code",
   "source": [
    "print(llama_df.iloc[159]['pathway_letters'])\n",
    "print(chatgpt_df.iloc[159]['pathway_letters'])"
   ],
   "metadata": {
    "colab": {
     "base_uri": "https://localhost:8080/"
    },
    "id": "uXMUuL9v6VPp",
    "outputId": "f4f4c39b-cdb5-4735-f8fa-81b18102c153",
    "pycharm": {
     "name": "#%%\n"
    }
   },
   "execution_count": 24,
   "outputs": [
    {
     "output_type": "stream",
     "name": "stdout",
     "text": [
      "IONOOONNNNH\n",
      "IA\n"
     ]
    }
   ]
  },
  {
   "cell_type": "code",
   "source": [
    "print(chatgpt_df.iloc[94]['pathway_letters'])\n",
    "print(mistral_df.iloc[94]['pathway_letters'])"
   ],
   "metadata": {
    "colab": {
     "base_uri": "https://localhost:8080/"
    },
    "id": "hKT7WAXG6crV",
    "outputId": "760f7ffe-e58a-48f5-c476-e7cdf013b56b",
    "pycharm": {
     "name": "#%%\n"
    }
   },
   "execution_count": 25,
   "outputs": [
    {
     "output_type": "stream",
     "name": "stdout",
     "text": [
      "IOA\n",
      "IONJJJJJJJH\n"
     ]
    }
   ]
  }
 ]
}