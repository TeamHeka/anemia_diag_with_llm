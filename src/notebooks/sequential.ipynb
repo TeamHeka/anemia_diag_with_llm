{
 "cells": [
  {
   "cell_type": "code",
   "execution_count": 1,
   "id": "c0aea942-a3ec-4c9a-8b7d-0a70e24445e9",
   "metadata": {
    "pycharm": {
     "name": "#%%\n"
    }
   },
   "outputs": [],
   "source": [
    "import pandas as pd\n",
    "import sys\n",
    "sys.path.append('..')\n",
    "from langchain_community.llms import Ollama \n",
    "from scripts import constants\n",
    "from scripts import utils"
   ]
  },
  {
   "cell_type": "code",
   "execution_count": 2,
   "id": "428b7170-6d23-41cf-a8eb-284202e353fd",
   "metadata": {
    "pycharm": {
     "name": "#%%\n"
    }
   },
   "outputs": [
    {
     "data": {
      "text/html": [
       "<div>\n",
       "<style scoped>\n",
       "    .dataframe tbody tr th:only-of-type {\n",
       "        vertical-align: middle;\n",
       "    }\n",
       "\n",
       "    .dataframe tbody tr th {\n",
       "        vertical-align: top;\n",
       "    }\n",
       "\n",
       "    .dataframe thead th {\n",
       "        text-align: right;\n",
       "    }\n",
       "</style>\n",
       "<table border=\"1\" class=\"dataframe\">\n",
       "  <thead>\n",
       "    <tr style=\"text-align: right;\">\n",
       "      <th></th>\n",
       "      <th>hemoglobin</th>\n",
       "      <th>ferritin</th>\n",
       "      <th>ret_count</th>\n",
       "      <th>segmented_neutrophils</th>\n",
       "      <th>tibc</th>\n",
       "      <th>mcv</th>\n",
       "      <th>serum_iron</th>\n",
       "      <th>rbc</th>\n",
       "      <th>gender</th>\n",
       "      <th>creatinine</th>\n",
       "      <th>cholestrol</th>\n",
       "      <th>copper</th>\n",
       "      <th>ethanol</th>\n",
       "      <th>folate</th>\n",
       "      <th>glucose</th>\n",
       "      <th>hematocrit</th>\n",
       "      <th>tsat</th>\n",
       "      <th>label</th>\n",
       "    </tr>\n",
       "  </thead>\n",
       "  <tbody>\n",
       "    <tr>\n",
       "      <th>0</th>\n",
       "      <td>7.116363</td>\n",
       "      <td>-1.000000</td>\n",
       "      <td>3.781573</td>\n",
       "      <td>2.738413</td>\n",
       "      <td>-1.000000</td>\n",
       "      <td>95.904198</td>\n",
       "      <td>68.457895</td>\n",
       "      <td>2.226085</td>\n",
       "      <td>0</td>\n",
       "      <td>1.892912</td>\n",
       "      <td>39.808550</td>\n",
       "      <td>110.329197</td>\n",
       "      <td>64.404350</td>\n",
       "      <td>21.654404</td>\n",
       "      <td>73.787009</td>\n",
       "      <td>21.349089</td>\n",
       "      <td>-1.000000</td>\n",
       "      <td>5</td>\n",
       "    </tr>\n",
       "    <tr>\n",
       "      <th>1</th>\n",
       "      <td>8.125320</td>\n",
       "      <td>92.230003</td>\n",
       "      <td>4.231419</td>\n",
       "      <td>1.188039</td>\n",
       "      <td>143.365567</td>\n",
       "      <td>104.057204</td>\n",
       "      <td>204.747831</td>\n",
       "      <td>2.342554</td>\n",
       "      <td>0</td>\n",
       "      <td>0.652614</td>\n",
       "      <td>13.478089</td>\n",
       "      <td>-1.000000</td>\n",
       "      <td>32.705481</td>\n",
       "      <td>-1.000000</td>\n",
       "      <td>43.520272</td>\n",
       "      <td>24.375961</td>\n",
       "      <td>142.815207</td>\n",
       "      <td>1</td>\n",
       "    </tr>\n",
       "    <tr>\n",
       "      <th>2</th>\n",
       "      <td>11.309450</td>\n",
       "      <td>38.324563</td>\n",
       "      <td>-1.000000</td>\n",
       "      <td>-1.000000</td>\n",
       "      <td>455.077909</td>\n",
       "      <td>76.402602</td>\n",
       "      <td>-1.000000</td>\n",
       "      <td>4.440732</td>\n",
       "      <td>0</td>\n",
       "      <td>-1.000000</td>\n",
       "      <td>-1.000000</td>\n",
       "      <td>-1.000000</td>\n",
       "      <td>-1.000000</td>\n",
       "      <td>-1.000000</td>\n",
       "      <td>-1.000000</td>\n",
       "      <td>33.928350</td>\n",
       "      <td>-1.000000</td>\n",
       "      <td>4</td>\n",
       "    </tr>\n",
       "    <tr>\n",
       "      <th>3</th>\n",
       "      <td>13.763858</td>\n",
       "      <td>253.513394</td>\n",
       "      <td>2.262606</td>\n",
       "      <td>0.551444</td>\n",
       "      <td>453.772884</td>\n",
       "      <td>82.781943</td>\n",
       "      <td>90.101466</td>\n",
       "      <td>4.987993</td>\n",
       "      <td>0</td>\n",
       "      <td>0.853521</td>\n",
       "      <td>104.005514</td>\n",
       "      <td>34.639227</td>\n",
       "      <td>0.963866</td>\n",
       "      <td>22.083012</td>\n",
       "      <td>88.891838</td>\n",
       "      <td>41.291574</td>\n",
       "      <td>19.856071</td>\n",
       "      <td>0</td>\n",
       "    </tr>\n",
       "    <tr>\n",
       "      <th>4</th>\n",
       "      <td>11.464002</td>\n",
       "      <td>-1.000000</td>\n",
       "      <td>-1.000000</td>\n",
       "      <td>-1.000000</td>\n",
       "      <td>320.964653</td>\n",
       "      <td>104.287127</td>\n",
       "      <td>-1.000000</td>\n",
       "      <td>3.297819</td>\n",
       "      <td>0</td>\n",
       "      <td>1.163516</td>\n",
       "      <td>121.616315</td>\n",
       "      <td>105.895897</td>\n",
       "      <td>-1.000000</td>\n",
       "      <td>9.337462</td>\n",
       "      <td>-1.000000</td>\n",
       "      <td>34.392007</td>\n",
       "      <td>-1.000000</td>\n",
       "      <td>7</td>\n",
       "    </tr>\n",
       "  </tbody>\n",
       "</table>\n",
       "</div>"
      ],
      "text/plain": [
       "   hemoglobin    ferritin  ret_count  segmented_neutrophils        tibc  \\\n",
       "0    7.116363   -1.000000   3.781573               2.738413   -1.000000   \n",
       "1    8.125320   92.230003   4.231419               1.188039  143.365567   \n",
       "2   11.309450   38.324563  -1.000000              -1.000000  455.077909   \n",
       "3   13.763858  253.513394   2.262606               0.551444  453.772884   \n",
       "4   11.464002   -1.000000  -1.000000              -1.000000  320.964653   \n",
       "\n",
       "          mcv  serum_iron       rbc  gender  creatinine  cholestrol  \\\n",
       "0   95.904198   68.457895  2.226085       0    1.892912   39.808550   \n",
       "1  104.057204  204.747831  2.342554       0    0.652614   13.478089   \n",
       "2   76.402602   -1.000000  4.440732       0   -1.000000   -1.000000   \n",
       "3   82.781943   90.101466  4.987993       0    0.853521  104.005514   \n",
       "4  104.287127   -1.000000  3.297819       0    1.163516  121.616315   \n",
       "\n",
       "       copper    ethanol     folate    glucose  hematocrit        tsat  label  \n",
       "0  110.329197  64.404350  21.654404  73.787009   21.349089   -1.000000      5  \n",
       "1   -1.000000  32.705481  -1.000000  43.520272   24.375961  142.815207      1  \n",
       "2   -1.000000  -1.000000  -1.000000  -1.000000   33.928350   -1.000000      4  \n",
       "3   34.639227   0.963866  22.083012  88.891838   41.291574   19.856071      0  \n",
       "4  105.895897  -1.000000   9.337462  -1.000000   34.392007   -1.000000      7  "
      ]
     },
     "execution_count": 2,
     "metadata": {},
     "output_type": "execute_result"
    }
   ],
   "source": [
    "test_df = pd.read_csv(constants.TEST_SET_PATH)\n",
    "test_df.head()"
   ]
  },
  {
   "cell_type": "code",
   "execution_count": 3,
   "id": "812c6cd5-6701-48bd-992a-ce4309a80cde",
   "metadata": {
    "pycharm": {
     "name": "#%%\n"
    }
   },
   "outputs": [],
   "source": [
    "#myllm = Ollama(model=\"llama3\")\n",
    "myllm = Ollama(model=\"mistral\")"
   ]
  },
  {
   "cell_type": "markdown",
   "id": "2e174b26",
   "metadata": {
    "pycharm": {
     "name": "#%% md\n"
    }
   },
   "source": [
    "#### Sequential without COT"
   ]
  },
  {
   "cell_type": "code",
   "execution_count": 4,
   "id": "65381377",
   "metadata": {
    "pycharm": {
     "name": "#%%\n"
    }
   },
   "outputs": [
    {
     "data": {
      "text/html": [
       "<div>\n",
       "<style scoped>\n",
       "    .dataframe tbody tr th:only-of-type {\n",
       "        vertical-align: middle;\n",
       "    }\n",
       "\n",
       "    .dataframe tbody tr th {\n",
       "        vertical-align: top;\n",
       "    }\n",
       "\n",
       "    .dataframe thead th {\n",
       "        text-align: right;\n",
       "    }\n",
       "</style>\n",
       "<table border=\"1\" class=\"dataframe\">\n",
       "  <thead>\n",
       "    <tr style=\"text-align: right;\">\n",
       "      <th></th>\n",
       "      <th>y_actual</th>\n",
       "      <th>y_pred</th>\n",
       "      <th>pathway_length</th>\n",
       "      <th>trajectory</th>\n",
       "      <th>pathway</th>\n",
       "      <th>messages</th>\n",
       "    </tr>\n",
       "  </thead>\n",
       "  <tbody>\n",
       "    <tr>\n",
       "      <th>0</th>\n",
       "      <td>hemolytic anemia</td>\n",
       "      <td>iron deficiency anemia</td>\n",
       "      <td>5</td>\n",
       "      <td>[ Hemoglobin,  Mean corpuscular volume,  Mean ...</td>\n",
       "      <td>[ Hemoglobin, 7.12 g/dL,  Mean corpuscular vol...</td>\n",
       "      <td>[content='Please name the first feature whose ...</td>\n",
       "    </tr>\n",
       "    <tr>\n",
       "      <th>1</th>\n",
       "      <td>vitamin b12/folate deficiency anemia</td>\n",
       "      <td>anemia of chronic disease</td>\n",
       "      <td>4</td>\n",
       "      <td>[ Hemoglobin,  Mean corpuscular volume,  Ferri...</td>\n",
       "      <td>[ Hemoglobin, 8.13 g/dL,  Mean corpuscular vol...</td>\n",
       "      <td>[content='Please name the first feature whose ...</td>\n",
       "    </tr>\n",
       "    <tr>\n",
       "      <th>2</th>\n",
       "      <td>iron deficiency anemia</td>\n",
       "      <td>iron deficiency anemia</td>\n",
       "      <td>4</td>\n",
       "      <td>[ Hemoglobin,  Mean corpuscular volume,  Ferri...</td>\n",
       "      <td>[ Hemoglobin, 11.31 g/dL,  Mean corpuscular vo...</td>\n",
       "      <td>[content='Please name the first feature whose ...</td>\n",
       "    </tr>\n",
       "    <tr>\n",
       "      <th>3</th>\n",
       "      <td>no anemia</td>\n",
       "      <td>no anemia</td>\n",
       "      <td>2</td>\n",
       "      <td>[ Hemoglobin,  No anemia]</td>\n",
       "      <td>[ Hemoglobin, 13.76 g/dL,  No anemia]</td>\n",
       "      <td>[content='Please name the first feature whose ...</td>\n",
       "    </tr>\n",
       "    <tr>\n",
       "      <th>4</th>\n",
       "      <td>inconclusive diagnosis</td>\n",
       "      <td>inconclusive diagnosis</td>\n",
       "      <td>4</td>\n",
       "      <td>[ Hemoglobin,  Mean corpuscular volume,  Retic...</td>\n",
       "      <td>[ Hemoglobin, 11.46 g/dL,  Mean corpuscular vo...</td>\n",
       "      <td>[content='Please name the first feature whose ...</td>\n",
       "    </tr>\n",
       "  </tbody>\n",
       "</table>\n",
       "</div>"
      ],
      "text/plain": [
       "                               y_actual                      y_pred  \\\n",
       "0                      hemolytic anemia      iron deficiency anemia   \n",
       "1  vitamin b12/folate deficiency anemia   anemia of chronic disease   \n",
       "2                iron deficiency anemia      iron deficiency anemia   \n",
       "3                             no anemia                   no anemia   \n",
       "4                inconclusive diagnosis      inconclusive diagnosis   \n",
       "\n",
       "   pathway_length                                         trajectory  \\\n",
       "0               5  [ Hemoglobin,  Mean corpuscular volume,  Mean ...   \n",
       "1               4  [ Hemoglobin,  Mean corpuscular volume,  Ferri...   \n",
       "2               4  [ Hemoglobin,  Mean corpuscular volume,  Ferri...   \n",
       "3               2                          [ Hemoglobin,  No anemia]   \n",
       "4               4  [ Hemoglobin,  Mean corpuscular volume,  Retic...   \n",
       "\n",
       "                                             pathway  \\\n",
       "0  [ Hemoglobin, 7.12 g/dL,  Mean corpuscular vol...   \n",
       "1  [ Hemoglobin, 8.13 g/dL,  Mean corpuscular vol...   \n",
       "2  [ Hemoglobin, 11.31 g/dL,  Mean corpuscular vo...   \n",
       "3              [ Hemoglobin, 13.76 g/dL,  No anemia]   \n",
       "4  [ Hemoglobin, 11.46 g/dL,  Mean corpuscular vo...   \n",
       "\n",
       "                                            messages  \n",
       "0  [content='Please name the first feature whose ...  \n",
       "1  [content='Please name the first feature whose ...  \n",
       "2  [content='Please name the first feature whose ...  \n",
       "3  [content='Please name the first feature whose ...  \n",
       "4  [content='Please name the first feature whose ...  "
      ]
     },
     "execution_count": 4,
     "metadata": {},
     "output_type": "execute_result"
    }
   ],
   "source": [
    "llm_results_nocot_df = pd.DataFrame(columns=[\"y_actual\", \"y_pred\"])\n",
    "llm_results_nocot_df[\"y_actual\"] = test_df[:1000][\"label\"]\n",
    "llm_results_nocot_df = llm_results_nocot_df.replace({\"y_actual\": constants.CLASS_DICT})\n",
    "llm_results_nocot_df[[\"y_pred\", \"pathway_length\", \"trajectory\", \"pathway\", \"messages\"]] = llm_results_nocot_df.apply(lambda row: \n",
    "                                                                                             utils.get_llm_diagnosis_msg_pass(row.name, myllm, constants.sequentialNOCOT_prompt), \n",
    "                                                                                             axis=1, result_type='expand')\n",
    "llm_results_nocot_df.head()"
   ]
  },
  {
   "cell_type": "markdown",
   "id": "a05e194d",
   "metadata": {
    "pycharm": {
     "name": "#%% md\n"
    }
   },
   "source": [
    "The cell below is for Mistral that adds an extra space at the beginning."
   ]
  },
  {
   "cell_type": "code",
   "execution_count": 6,
   "id": "63444a73",
   "metadata": {
    "pycharm": {
     "name": "#%%\n"
    }
   },
   "outputs": [],
   "source": [
    "valid_classes = set(constants.CLASS_DICT.values())\n",
    "\n",
    "# Function to sanitize predictions\n",
    "def sanitize_predictions(pred):\n",
    "    pred = pred.strip()  # Remove leading and trailing whitespace\n",
    "    if pred in valid_classes:\n",
    "        return pred\n",
    "    else:\n",
    "        return \"inconclusive diagnosis\" \n",
    "\n",
    "# Apply the sanitization to predicted labels\n",
    "llm_results_nocot_df[\"y_pred\"] = llm_results_nocot_df[\"y_pred\"].apply(sanitize_predictions)\n"
   ]
  },
  {
   "cell_type": "code",
   "execution_count": null,
   "id": "4529d4b0",
   "metadata": {
    "pycharm": {
     "name": "#%%\n"
    }
   },
   "outputs": [],
   "source": [
    "# Select only the y_actual and y_pred columns\n",
    "llm_results_nocot_df = llm_results_nocot_df[[\"y_actual\", \"y_pred\", \"pathway\"]]\n",
    "#llm_results.to_csv('pathways_NOCOTsequential_llama.csv', index=False, header=False)\n",
    "llm_results_nocot_df.to_csv('pathways_NOCOTsequential_mistral.csv', index=False, header=False)"
   ]
  },
  {
   "cell_type": "code",
   "execution_count": 7,
   "id": "35ac2702",
   "metadata": {
    "pycharm": {
     "name": "#%%\n"
    }
   },
   "outputs": [
    {
     "data": {
      "text/plain": [
       "(27.700000000000003, 22.89244494891416, 58.8934001960572, 3.633)"
      ]
     },
     "execution_count": 7,
     "metadata": {},
     "output_type": "execute_result"
    }
   ],
   "source": [
    "acc_r, f1_r, roc_auc_r = utils.test(llm_results_nocot_df.y_actual, llm_results_nocot_df.y_pred)\n",
    "mean_pathway_length_r = utils.compute_mean_pathway_length(llm_results_nocot_df)\n",
    "acc_r, f1_r, roc_auc_r, mean_pathway_length_r"
   ]
  },
  {
   "cell_type": "markdown",
   "id": "e931fd41",
   "metadata": {
    "pycharm": {
     "name": "#%% md\n"
    }
   },
   "source": [
    "#### Sequential with COT"
   ]
  },
  {
   "cell_type": "code",
   "execution_count": null,
   "id": "9cff0ae8-7228-47fc-9084-7028f9649c80",
   "metadata": {
    "pycharm": {
     "name": "#%%\n"
    }
   },
   "outputs": [],
   "source": [
    "llm_results_cot_df = pd.DataFrame(columns=[\"y_actual\", \"y_pred\"])\n",
    "llm_results_cot_df[\"y_actual\"] = test_df[:1000][\"label\"]\n",
    "llm_results_cot_df = llm_results_cot_df.replace({\"y_actual\": constants.CLASS_DICT})\n",
    "llm_results_cot_df[[\"y_pred\", \"pathway_length\", \"trajectory\", \"pathway\", \"messages\"]] = llm_results_cot_df.apply(lambda row: \n",
    "                                                                                             utils.get_llm_diagnosis_msg_pass_cot(row.name, myllm, constants.sequentialCOT_prompt), \n",
    "                                                                                             axis=1, result_type='expand')\n",
    "llm_results_cot_df.head()"
   ]
  },
  {
   "cell_type": "code",
   "execution_count": null,
   "id": "7258fbc8",
   "metadata": {
    "pycharm": {
     "name": "#%%\n"
    }
   },
   "outputs": [
    {
     "name": "stdout",
     "output_type": "stream",
     "text": [
      "                                y_actual                  y_pred  \\\n",
      "7                       hemolytic anemia  inconclusive diagnosis   \n",
      "8   vitamin b12/folate deficiency anemia      unspecified anemia   \n",
      "9                              no anemia        hemolytic anemia   \n",
      "13             anemia of chronic disease         aplastic anemia   \n",
      "14                      hemolytic anemia         aplastic anemia   \n",
      "\n",
      "                                             messages  \n",
      "7   [content='Please name the first feature whose ...  \n",
      "8   [content='Please name the first feature whose ...  \n",
      "9   [content='Please name the first feature whose ...  \n",
      "13  [content='Please name the first feature whose ...  \n",
      "14  [content='Please name the first feature whose ...  \n"
     ]
    }
   ],
   "source": [
    "# Filter the DataFrame to get only the rows where y_actual is different from y_pred\n",
    "incorrect_predictions_df = llm_results_cot_df[llm_results_cot_df[\"y_actual\"] != llm_results_cot_df[\"y_pred\"]]\n",
    "\n",
    "wrong_diagn_df = incorrect_predictions_df[[\"y_actual\", \"y_pred\", \"messages\"]]\n",
    "predictions_df = llm_results_cot_df[[\"y_actual\", \"y_pred\", \"pathway\"]]\n",
    "cleaned_df = llm_results_cot_df[\"trajectory\"]\n",
    "\n",
    "print(wrong_diagn_df.head())"
   ]
  },
  {
   "cell_type": "code",
   "execution_count": null,
   "id": "5b8fd2ba",
   "metadata": {
    "pycharm": {
     "name": "#%%\n"
    }
   },
   "outputs": [],
   "source": [
    "# Export the DataFrame to a CSV file\n",
    "#wrong_diagn_df.to_csv('wrongpathway_cot_df_llama.csv', index=False)\n",
    "#predictions_df.to_csv('pathways_COTSequential_llama.csv', index = False)\n",
    "#cleaned_df.to_csv('pathways_COTSequential_llama_cleaned.csv', index = False)\n",
    "\n",
    "wrong_diagn_df.to_csv('wrongpathway_cot_df_mistral.csv', index=False)\n",
    "predictions_df.to_csv('pathways_COTSequential_mistral.csv', index = False)\n",
    "cleaned_df.to_csv('pathways_COTSequential_mistral_cleaned.csv', index = False)"
   ]
  },
  {
   "cell_type": "code",
   "execution_count": null,
   "id": "bda7504e",
   "metadata": {
    "pycharm": {
     "name": "#%%\n"
    }
   },
   "outputs": [],
   "source": [
    "# Ensure predictions are within the expected class set\n",
    "valid_classes = set(constants.CLASS_DICT.values())\n",
    "\n",
    "# Function to sanitize predictions\n",
    "def sanitize_predictions(pred):\n",
    "    pred = pred.strip()  # Remove leading and trailing whitespace\n",
    "    if pred in valid_classes:\n",
    "        return pred\n",
    "    else:\n",
    "        return \"inconclusive diagnosis\"  # or some other default/unknown class\n",
    "\n",
    "# Apply the sanitization to predicted labels\n",
    "llm_results_cot_df[\"y_pred\"] = llm_results_cot_df[\"y_pred\"].apply(sanitize_predictions)"
   ]
  },
  {
   "cell_type": "code",
   "execution_count": null,
   "id": "9f2f33d6",
   "metadata": {
    "pycharm": {
     "name": "#%%\n"
    }
   },
   "outputs": [
    {
     "data": {
      "text/plain": [
       "(56.699999999999996, 57.3000188414589, 76.12065619473907, 6.137)"
      ]
     },
     "execution_count": 10,
     "metadata": {},
     "output_type": "execute_result"
    }
   ],
   "source": [
    "acc_r, f1_r, roc_auc_r = utils.test(llm_results_cot_df.y_actual, llm_results_cot_df.y_pred)\n",
    "mean_pathway_length_r = utils.compute_mean_pathway_length(llm_results_cot_df)\n",
    "acc_r, f1_r, roc_auc_r, mean_pathway_length_r"
   ]
  },
  {
   "cell_type": "markdown",
   "id": "6fec0101",
   "metadata": {
    "pycharm": {
     "name": "#%% md\n"
    }
   },
   "source": [
    "#### ChatGPT Sequential No COT"
   ]
  },
  {
   "cell_type": "code",
   "execution_count": 4,
   "id": "8b2e56b0",
   "metadata": {
    "pycharm": {
     "name": "#%%\n"
    }
   },
   "outputs": [
    {
     "name": "stdout",
     "output_type": "stream",
     "text": [
      "Processing patient:  0\n",
      "Processing patient:  1\n",
      "Processing patient:  2\n",
      "Processing patient:  3\n",
      "Processing patient:  4\n",
      "Processing patient:  5\n",
      "Processing patient:  6\n",
      "Processing patient:  7\n",
      "Processing patient:  8\n",
      "Processing patient:  9\n",
      "Processing patient:  10\n",
      "Processing patient:  11\n",
      "Processing patient:  12\n",
      "Processing patient:  13\n",
      "Processing patient:  14\n",
      "Processing patient:  15\n",
      "Processing patient:  16\n",
      "Processing patient:  17\n",
      "Processing patient:  18\n",
      "Processing patient:  19\n",
      "Processing patient:  20\n",
      "Processing patient:  21\n",
      "Processing patient:  22\n",
      "Processing patient:  23\n",
      "Processing patient:  24\n",
      "Processing patient:  25\n",
      "Processing patient:  26\n",
      "Processing patient:  27\n",
      "Processing patient:  28\n",
      "Processing patient:  29\n",
      "Processing patient:  30\n",
      "Processing patient:  31\n",
      "Processing patient:  32\n",
      "Processing patient:  33\n",
      "Processing patient:  34\n",
      "Processing patient:  35\n",
      "Processing patient:  36\n",
      "Processing patient:  37\n",
      "Processing patient:  38\n",
      "Processing patient:  39\n",
      "Processing patient:  40\n",
      "Processing patient:  41\n",
      "Processing patient:  42\n",
      "Processing patient:  43\n",
      "Processing patient:  44\n",
      "Processing patient:  45\n",
      "Processing patient:  46\n",
      "Processing patient:  47\n",
      "Processing patient:  48\n",
      "Processing patient:  49\n",
      "Processing patient:  50\n",
      "Processing patient:  51\n",
      "Processing patient:  52\n",
      "Processing patient:  53\n",
      "Processing patient:  54\n",
      "Processing patient:  55\n",
      "Processing patient:  56\n",
      "Processing patient:  57\n",
      "Processing patient:  58\n",
      "Processing patient:  59\n",
      "Processing patient:  60\n",
      "Processing patient:  61\n",
      "Processing patient:  62\n",
      "Processing patient:  63\n",
      "Processing patient:  64\n",
      "Processing patient:  65\n",
      "Processing patient:  66\n",
      "Processing patient:  67\n",
      "Processing patient:  68\n",
      "Processing patient:  69\n",
      "Processing patient:  70\n",
      "Processing patient:  71\n",
      "Processing patient:  72\n",
      "Processing patient:  73\n",
      "Processing patient:  74\n",
      "Processing patient:  75\n",
      "Processing patient:  76\n",
      "Processing patient:  77\n",
      "Processing patient:  78\n",
      "Processing patient:  79\n",
      "Processing patient:  80\n",
      "Processing patient:  81\n",
      "Processing patient:  82\n",
      "Processing patient:  83\n",
      "Processing patient:  84\n",
      "Processing patient:  85\n",
      "Processing patient:  86\n",
      "Processing patient:  87\n",
      "Processing patient:  88\n",
      "Processing patient:  89\n",
      "Processing patient:  90\n",
      "Processing patient:  91\n",
      "Processing patient:  92\n",
      "Processing patient:  93\n",
      "Processing patient:  94\n",
      "Processing patient:  95\n",
      "Processing patient:  96\n",
      "Processing patient:  97\n",
      "Processing patient:  98\n",
      "Processing patient:  99\n",
      "Processing patient:  100\n",
      "Processing patient:  101\n",
      "Processing patient:  102\n",
      "Processing patient:  103\n",
      "Processing patient:  104\n",
      "Processing patient:  105\n",
      "Processing patient:  106\n",
      "Processing patient:  107\n",
      "Processing patient:  108\n",
      "Processing patient:  109\n",
      "Processing patient:  110\n",
      "Processing patient:  111\n",
      "Processing patient:  112\n",
      "Processing patient:  113\n",
      "Processing patient:  114\n",
      "Processing patient:  115\n",
      "Processing patient:  116\n",
      "Processing patient:  117\n",
      "Processing patient:  118\n",
      "Processing patient:  119\n",
      "Processing patient:  120\n",
      "Processing patient:  121\n",
      "Processing patient:  122\n",
      "Processing patient:  123\n",
      "Processing patient:  124\n",
      "Processing patient:  125\n",
      "Processing patient:  126\n",
      "Processing patient:  127\n",
      "Processing patient:  128\n",
      "Processing patient:  129\n",
      "Processing patient:  130\n",
      "Processing patient:  131\n",
      "Processing patient:  132\n",
      "Processing patient:  133\n",
      "Processing patient:  134\n",
      "Processing patient:  135\n",
      "Processing patient:  136\n",
      "Processing patient:  137\n",
      "Processing patient:  138\n",
      "Processing patient:  139\n",
      "Processing patient:  140\n",
      "Processing patient:  141\n",
      "Processing patient:  142\n",
      "Processing patient:  143\n",
      "Processing patient:  144\n",
      "Processing patient:  145\n",
      "Processing patient:  146\n",
      "Processing patient:  147\n",
      "Processing patient:  148\n",
      "Processing patient:  149\n",
      "Processing patient:  150\n",
      "Processing patient:  151\n",
      "Processing patient:  152\n",
      "Processing patient:  153\n",
      "Processing patient:  154\n",
      "Processing patient:  155\n",
      "Processing patient:  156\n",
      "Processing patient:  157\n",
      "Processing patient:  158\n",
      "Processing patient:  159\n",
      "Processing patient:  160\n",
      "Processing patient:  161\n",
      "Processing patient:  162\n",
      "Processing patient:  163\n",
      "Processing patient:  164\n",
      "Processing patient:  165\n",
      "Processing patient:  166\n",
      "Processing patient:  167\n",
      "Processing patient:  168\n",
      "Processing patient:  169\n",
      "Processing patient:  170\n",
      "Processing patient:  171\n",
      "Processing patient:  172\n",
      "Processing patient:  173\n",
      "Processing patient:  174\n",
      "Processing patient:  175\n",
      "Processing patient:  176\n",
      "Processing patient:  177\n",
      "Processing patient:  178\n",
      "Processing patient:  179\n",
      "Processing patient:  180\n",
      "Processing patient:  181\n",
      "Processing patient:  182\n",
      "Processing patient:  183\n",
      "Processing patient:  184\n",
      "Processing patient:  185\n",
      "Processing patient:  186\n",
      "Processing patient:  187\n",
      "Processing patient:  188\n",
      "Processing patient:  189\n",
      "Processing patient:  190\n",
      "Processing patient:  191\n",
      "Processing patient:  192\n",
      "Processing patient:  193\n",
      "Processing patient:  194\n",
      "Processing patient:  195\n",
      "Processing patient:  196\n",
      "Processing patient:  197\n",
      "Processing patient:  198\n",
      "Processing patient:  199\n",
      "Processing patient:  200\n",
      "Processing patient:  201\n",
      "Processing patient:  202\n",
      "Processing patient:  203\n",
      "Processing patient:  204\n",
      "Processing patient:  205\n",
      "Processing patient:  206\n",
      "Processing patient:  207\n",
      "Processing patient:  208\n",
      "Processing patient:  209\n",
      "Processing patient:  210\n",
      "Processing patient:  211\n",
      "Processing patient:  212\n",
      "Processing patient:  213\n",
      "Processing patient:  214\n",
      "Processing patient:  215\n",
      "Processing patient:  216\n",
      "Processing patient:  217\n",
      "Processing patient:  218\n",
      "Processing patient:  219\n",
      "Processing patient:  220\n",
      "Processing patient:  221\n",
      "Processing patient:  222\n",
      "Processing patient:  223\n",
      "Processing patient:  224\n",
      "Processing patient:  225\n",
      "Processing patient:  226\n",
      "Processing patient:  227\n",
      "Processing patient:  228\n",
      "Processing patient:  229\n",
      "Processing patient:  230\n",
      "Processing patient:  231\n",
      "Processing patient:  232\n",
      "Processing patient:  233\n",
      "Processing patient:  234\n",
      "Processing patient:  235\n",
      "Processing patient:  236\n",
      "Processing patient:  237\n",
      "Processing patient:  238\n",
      "Processing patient:  239\n",
      "Processing patient:  240\n",
      "Processing patient:  241\n",
      "Processing patient:  242\n",
      "Processing patient:  243\n",
      "Processing patient:  244\n",
      "Processing patient:  245\n",
      "Processing patient:  246\n",
      "Processing patient:  247\n",
      "Processing patient:  248\n",
      "Processing patient:  249\n"
     ]
    }
   ],
   "source": [
    "results_df = utils.get_results_chatgpt_sequential(250, \"gpt-4-turbo\", constants.sequentialNOCOT_prompt, save = True, filename = 'pathways_NOCOTsequential_chatgpt.csv')"
   ]
  },
  {
   "cell_type": "code",
   "execution_count": 5,
   "id": "0de4da76",
   "metadata": {
    "pycharm": {
     "name": "#%%\n"
    }
   },
   "outputs": [
    {
     "data": {
      "text/html": [
       "<div>\n",
       "<style scoped>\n",
       "    .dataframe tbody tr th:only-of-type {\n",
       "        vertical-align: middle;\n",
       "    }\n",
       "\n",
       "    .dataframe tbody tr th {\n",
       "        vertical-align: top;\n",
       "    }\n",
       "\n",
       "    .dataframe thead th {\n",
       "        text-align: right;\n",
       "    }\n",
       "</style>\n",
       "<table border=\"1\" class=\"dataframe\">\n",
       "  <thead>\n",
       "    <tr style=\"text-align: right;\">\n",
       "      <th></th>\n",
       "      <th>y_actual</th>\n",
       "      <th>y_pred</th>\n",
       "      <th>pathway_length</th>\n",
       "    </tr>\n",
       "  </thead>\n",
       "  <tbody>\n",
       "    <tr>\n",
       "      <th>0</th>\n",
       "      <td>hemolytic anemia</td>\n",
       "      <td>hemolytic anemia</td>\n",
       "      <td>4.0</td>\n",
       "    </tr>\n",
       "    <tr>\n",
       "      <th>1</th>\n",
       "      <td>vitamin b12/folate deficiency anemia</td>\n",
       "      <td>vitamin b12/folate deficiency anemia</td>\n",
       "      <td>4.0</td>\n",
       "    </tr>\n",
       "    <tr>\n",
       "      <th>2</th>\n",
       "      <td>iron deficiency anemia</td>\n",
       "      <td>inconclusive diagnosis</td>\n",
       "      <td>5.0</td>\n",
       "    </tr>\n",
       "    <tr>\n",
       "      <th>3</th>\n",
       "      <td>no anemia</td>\n",
       "      <td>no anemia</td>\n",
       "      <td>2.0</td>\n",
       "    </tr>\n",
       "    <tr>\n",
       "      <th>4</th>\n",
       "      <td>inconclusive diagnosis</td>\n",
       "      <td>inconclusive diagnosis</td>\n",
       "      <td>4.0</td>\n",
       "    </tr>\n",
       "  </tbody>\n",
       "</table>\n",
       "</div>"
      ],
      "text/plain": [
       "                               y_actual                                y_pred  \\\n",
       "0                      hemolytic anemia                      hemolytic anemia   \n",
       "1  vitamin b12/folate deficiency anemia  vitamin b12/folate deficiency anemia   \n",
       "2                iron deficiency anemia                inconclusive diagnosis   \n",
       "3                             no anemia                             no anemia   \n",
       "4                inconclusive diagnosis                inconclusive diagnosis   \n",
       "\n",
       "   pathway_length  \n",
       "0             4.0  \n",
       "1             4.0  \n",
       "2             5.0  \n",
       "3             2.0  \n",
       "4             4.0  "
      ]
     },
     "execution_count": 5,
     "metadata": {},
     "output_type": "execute_result"
    }
   ],
   "source": [
    "results_df.head()"
   ]
  },
  {
   "cell_type": "code",
   "execution_count": 6,
   "id": "8a052801",
   "metadata": {
    "pycharm": {
     "name": "#%%\n"
    }
   },
   "outputs": [
    {
     "data": {
      "text/plain": [
       "(74.0, 69.55868828341478, 85.60098158683833, 4.156)"
      ]
     },
     "execution_count": 6,
     "metadata": {},
     "output_type": "execute_result"
    }
   ],
   "source": [
    "acc, f1, roc_auc = utils.test(results_df.y_actual, results_df.y_pred)\n",
    "mean_pathway_length = utils.compute_mean_pathway_length(results_df)\n",
    "acc, f1, roc_auc, mean_pathway_length"
   ]
  },
  {
   "cell_type": "code",
   "execution_count": 7,
   "id": "29cf679a",
   "metadata": {
    "pycharm": {
     "name": "#%%\n"
    }
   },
   "outputs": [
    {
     "data": {
      "text/html": [
       "<div>\n",
       "<style scoped>\n",
       "    .dataframe tbody tr th:only-of-type {\n",
       "        vertical-align: middle;\n",
       "    }\n",
       "\n",
       "    .dataframe tbody tr th {\n",
       "        vertical-align: top;\n",
       "    }\n",
       "\n",
       "    .dataframe thead th {\n",
       "        text-align: right;\n",
       "    }\n",
       "</style>\n",
       "<table border=\"1\" class=\"dataframe\">\n",
       "  <thead>\n",
       "    <tr style=\"text-align: right;\">\n",
       "      <th></th>\n",
       "      <th>y_actual</th>\n",
       "      <th>y_pred</th>\n",
       "      <th>pathway_length</th>\n",
       "    </tr>\n",
       "  </thead>\n",
       "  <tbody>\n",
       "    <tr>\n",
       "      <th>0</th>\n",
       "      <td>hemolytic anemia</td>\n",
       "      <td>hemolytic anemia</td>\n",
       "      <td>4.0</td>\n",
       "    </tr>\n",
       "    <tr>\n",
       "      <th>1</th>\n",
       "      <td>vitamin b12/folate deficiency anemia</td>\n",
       "      <td>vitamin b12/folate deficiency anemia</td>\n",
       "      <td>4.0</td>\n",
       "    </tr>\n",
       "    <tr>\n",
       "      <th>2</th>\n",
       "      <td>iron deficiency anemia</td>\n",
       "      <td>inconclusive diagnosis</td>\n",
       "      <td>5.0</td>\n",
       "    </tr>\n",
       "    <tr>\n",
       "      <th>3</th>\n",
       "      <td>no anemia</td>\n",
       "      <td>no anemia</td>\n",
       "      <td>2.0</td>\n",
       "    </tr>\n",
       "    <tr>\n",
       "      <th>4</th>\n",
       "      <td>inconclusive diagnosis</td>\n",
       "      <td>inconclusive diagnosis</td>\n",
       "      <td>4.0</td>\n",
       "    </tr>\n",
       "  </tbody>\n",
       "</table>\n",
       "</div>"
      ],
      "text/plain": [
       "                               y_actual                                y_pred  \\\n",
       "0                      hemolytic anemia                      hemolytic anemia   \n",
       "1  vitamin b12/folate deficiency anemia  vitamin b12/folate deficiency anemia   \n",
       "2                iron deficiency anemia                inconclusive diagnosis   \n",
       "3                             no anemia                             no anemia   \n",
       "4                inconclusive diagnosis                inconclusive diagnosis   \n",
       "\n",
       "   pathway_length  \n",
       "0             4.0  \n",
       "1             4.0  \n",
       "2             5.0  \n",
       "3             2.0  \n",
       "4             4.0  "
      ]
     },
     "execution_count": 7,
     "metadata": {},
     "output_type": "execute_result"
    }
   ],
   "source": [
    "results_df.head()"
   ]
  },
  {
   "cell_type": "markdown",
   "id": "e900f941",
   "metadata": {
    "pycharm": {
     "name": "#%% md\n"
    }
   },
   "source": [
    "#### ChatGPT Sequential COT"
   ]
  },
  {
   "cell_type": "code",
   "execution_count": 8,
   "id": "7a82d4f9",
   "metadata": {
    "pycharm": {
     "name": "#%%\n"
    }
   },
   "outputs": [
    {
     "name": "stdout",
     "output_type": "stream",
     "text": [
      "Processing patient:  0\n",
      "Processing patient:  1\n",
      "Processing patient:  2\n"
     ]
    },
    {
     "name": "stdout",
     "output_type": "stream",
     "text": [
      "Processing patient:  3\n",
      "Processing patient:  4\n",
      "Processing patient:  5\n",
      "Processing patient:  6\n",
      "Processing patient:  7\n",
      "Processing patient:  8\n",
      "Processing patient:  9\n",
      "Processing patient:  10\n",
      "Processing patient:  11\n",
      "Processing patient:  12\n",
      "Processing patient:  13\n",
      "Processing patient:  14\n",
      "Processing patient:  15\n",
      "Processing patient:  16\n",
      "Processing patient:  17\n",
      "Processing patient:  18\n",
      "Processing patient:  19\n",
      "Processing patient:  20\n",
      "Processing patient:  21\n",
      "Processing patient:  22\n",
      "Processing patient:  23\n",
      "Processing patient:  24\n",
      "Processing patient:  25\n",
      "Processing patient:  26\n",
      "Processing patient:  27\n",
      "Processing patient:  28\n",
      "Processing patient:  29\n",
      "Processing patient:  30\n",
      "Processing patient:  31\n",
      "Processing patient:  32\n",
      "Processing patient:  33\n",
      "Processing patient:  34\n",
      "Processing patient:  35\n",
      "Processing patient:  36\n",
      "Processing patient:  37\n",
      "Processing patient:  38\n",
      "Processing patient:  39\n",
      "Processing patient:  40\n",
      "Processing patient:  41\n",
      "Processing patient:  42\n",
      "Processing patient:  43\n",
      "Processing patient:  44\n",
      "Processing patient:  45\n",
      "Processing patient:  46\n",
      "Processing patient:  47\n",
      "Processing patient:  48\n",
      "Processing patient:  49\n",
      "Processing patient:  50\n",
      "Processing patient:  51\n",
      "Processing patient:  52\n",
      "Processing patient:  53\n",
      "Processing patient:  54\n",
      "Processing patient:  55\n",
      "Processing patient:  56\n",
      "Processing patient:  57\n",
      "Processing patient:  58\n",
      "Processing patient:  59\n",
      "Processing patient:  60\n",
      "Processing patient:  61\n",
      "Processing patient:  62\n",
      "Processing patient:  63\n",
      "Processing patient:  64\n",
      "Processing patient:  65\n",
      "Processing patient:  66\n",
      "Processing patient:  67\n",
      "Processing patient:  68\n",
      "Processing patient:  69\n",
      "Processing patient:  70\n",
      "Processing patient:  71\n",
      "Processing patient:  72\n",
      "Processing patient:  73\n",
      "Processing patient:  74\n",
      "Processing patient:  75\n",
      "Processing patient:  76\n",
      "Processing patient:  77\n",
      "Processing patient:  78\n",
      "Processing patient:  79\n",
      "Processing patient:  80\n",
      "Processing patient:  81\n",
      "Processing patient:  82\n",
      "Processing patient:  83\n",
      "Processing patient:  84\n",
      "Processing patient:  85\n",
      "Processing patient:  86\n",
      "Processing patient:  87\n",
      "Processing patient:  88\n",
      "Processing patient:  89\n",
      "Processing patient:  90\n",
      "Processing patient:  91\n",
      "Processing patient:  92\n",
      "Processing patient:  93\n",
      "Processing patient:  94\n",
      "Processing patient:  95\n",
      "Processing patient:  96\n",
      "Processing patient:  97\n",
      "Processing patient:  98\n",
      "Processing patient:  99\n",
      "Processing patient:  100\n",
      "Processing patient:  101\n",
      "Processing patient:  102\n",
      "Processing patient:  103\n",
      "Processing patient:  104\n",
      "Processing patient:  105\n",
      "Processing patient:  106\n",
      "Processing patient:  107\n",
      "Processing patient:  108\n",
      "Processing patient:  109\n",
      "Processing patient:  110\n",
      "Processing patient:  111\n",
      "Processing patient:  112\n",
      "Processing patient:  113\n",
      "Processing patient:  114\n",
      "Processing patient:  115\n",
      "Processing patient:  116\n",
      "Processing patient:  117\n",
      "Processing patient:  118\n",
      "Processing patient:  119\n",
      "Processing patient:  120\n",
      "Processing patient:  121\n",
      "Processing patient:  122\n",
      "Processing patient:  123\n",
      "Processing patient:  124\n",
      "Processing patient:  125\n",
      "Processing patient:  126\n",
      "Processing patient:  127\n",
      "Processing patient:  128\n",
      "Processing patient:  129\n",
      "Processing patient:  130\n",
      "Processing patient:  131\n",
      "Processing patient:  132\n",
      "Processing patient:  133\n",
      "Processing patient:  134\n",
      "Processing patient:  135\n",
      "Processing patient:  136\n",
      "Processing patient:  137\n",
      "Processing patient:  138\n",
      "Processing patient:  139\n",
      "Processing patient:  140\n",
      "Processing patient:  141\n",
      "Processing patient:  142\n",
      "Processing patient:  143\n",
      "Processing patient:  144\n",
      "Processing patient:  145\n",
      "Processing patient:  146\n",
      "Processing patient:  147\n",
      "Processing patient:  148\n",
      "Processing patient:  149\n",
      "Processing patient:  150\n",
      "Processing patient:  151\n",
      "Processing patient:  152\n",
      "Processing patient:  153\n",
      "Processing patient:  154\n",
      "Processing patient:  155\n",
      "Processing patient:  156\n",
      "Processing patient:  157\n",
      "Processing patient:  158\n",
      "Processing patient:  159\n",
      "Processing patient:  160\n",
      "Processing patient:  161\n",
      "Processing patient:  162\n",
      "Processing patient:  163\n",
      "Processing patient:  164\n",
      "Processing patient:  165\n",
      "Processing patient:  166\n",
      "Processing patient:  167\n",
      "Processing patient:  168\n",
      "Processing patient:  169\n",
      "Processing patient:  170\n",
      "Processing patient:  171\n",
      "Processing patient:  172\n",
      "Processing patient:  173\n",
      "Processing patient:  174\n",
      "Processing patient:  175\n",
      "Processing patient:  176\n",
      "Processing patient:  177\n",
      "Processing patient:  178\n",
      "Processing patient:  179\n",
      "Processing patient:  180\n",
      "Processing patient:  181\n",
      "Processing patient:  182\n",
      "Processing patient:  183\n",
      "Processing patient:  184\n",
      "Processing patient:  185\n",
      "Processing patient:  186\n",
      "Processing patient:  187\n",
      "Processing patient:  188\n",
      "Processing patient:  189\n",
      "Processing patient:  190\n",
      "Processing patient:  191\n",
      "Processing patient:  192\n",
      "Processing patient:  193\n",
      "Processing patient:  194\n",
      "Processing patient:  195\n",
      "Processing patient:  196\n",
      "Processing patient:  197\n",
      "Processing patient:  198\n",
      "Processing patient:  199\n",
      "Processing patient:  200\n",
      "Processing patient:  201\n",
      "Processing patient:  202\n",
      "Processing patient:  203\n",
      "Processing patient:  204\n",
      "Processing patient:  205\n",
      "Processing patient:  206\n",
      "Processing patient:  207\n",
      "Processing patient:  208\n",
      "Processing patient:  209\n",
      "Processing patient:  210\n",
      "Processing patient:  211\n",
      "Processing patient:  212\n",
      "Processing patient:  213\n",
      "Processing patient:  214\n",
      "Processing patient:  215\n",
      "Processing patient:  216\n",
      "Processing patient:  217\n",
      "Processing patient:  218\n",
      "Processing patient:  219\n",
      "Processing patient:  220\n",
      "Processing patient:  221\n",
      "Processing patient:  222\n",
      "Processing patient:  223\n",
      "Processing patient:  224\n",
      "Processing patient:  225\n",
      "Processing patient:  226\n",
      "Processing patient:  227\n",
      "Processing patient:  228\n",
      "Processing patient:  229\n",
      "Processing patient:  230\n",
      "Processing patient:  231\n",
      "Processing patient:  232\n",
      "Processing patient:  233\n",
      "Processing patient:  234\n",
      "Processing patient:  235\n",
      "Processing patient:  236\n",
      "Processing patient:  237\n",
      "Processing patient:  238\n",
      "Processing patient:  239\n",
      "Processing patient:  240\n",
      "Processing patient:  241\n",
      "Processing patient:  242\n",
      "Processing patient:  243\n",
      "Processing patient:  244\n",
      "Processing patient:  245\n",
      "Processing patient:  246\n",
      "Processing patient:  247\n",
      "Processing patient:  248\n",
      "Processing patient:  249\n"
     ]
    }
   ],
   "source": [
    "results_df = utils.get_results_chatgpt_sequential_cot(250, \"gpt-4-turbo\", constants.sequentialCOT_prompt, save = True, filename = 'pathways_COTsequential_chatgpt.csv')"
   ]
  },
  {
   "cell_type": "code",
   "execution_count": 9,
   "id": "098da014",
   "metadata": {
    "pycharm": {
     "name": "#%%\n"
    }
   },
   "outputs": [
    {
     "data": {
      "text/html": [
       "<div>\n",
       "<style scoped>\n",
       "    .dataframe tbody tr th:only-of-type {\n",
       "        vertical-align: middle;\n",
       "    }\n",
       "\n",
       "    .dataframe tbody tr th {\n",
       "        vertical-align: top;\n",
       "    }\n",
       "\n",
       "    .dataframe thead th {\n",
       "        text-align: right;\n",
       "    }\n",
       "</style>\n",
       "<table border=\"1\" class=\"dataframe\">\n",
       "  <thead>\n",
       "    <tr style=\"text-align: right;\">\n",
       "      <th></th>\n",
       "      <th>y_actual</th>\n",
       "      <th>y_pred</th>\n",
       "      <th>pathway_length</th>\n",
       "    </tr>\n",
       "  </thead>\n",
       "  <tbody>\n",
       "    <tr>\n",
       "      <th>0</th>\n",
       "      <td>hemolytic anemia</td>\n",
       "      <td>hemolytic anemia</td>\n",
       "      <td>4.0</td>\n",
       "    </tr>\n",
       "    <tr>\n",
       "      <th>1</th>\n",
       "      <td>vitamin b12/folate deficiency anemia</td>\n",
       "      <td>vitamin b12/folate deficiency anemia</td>\n",
       "      <td>4.0</td>\n",
       "    </tr>\n",
       "    <tr>\n",
       "      <th>2</th>\n",
       "      <td>iron deficiency anemia</td>\n",
       "      <td>iron deficiency anemia</td>\n",
       "      <td>5.0</td>\n",
       "    </tr>\n",
       "    <tr>\n",
       "      <th>3</th>\n",
       "      <td>no anemia</td>\n",
       "      <td>no anemia</td>\n",
       "      <td>2.0</td>\n",
       "    </tr>\n",
       "    <tr>\n",
       "      <th>4</th>\n",
       "      <td>inconclusive diagnosis</td>\n",
       "      <td>inconclusive diagnosis</td>\n",
       "      <td>4.0</td>\n",
       "    </tr>\n",
       "  </tbody>\n",
       "</table>\n",
       "</div>"
      ],
      "text/plain": [
       "                               y_actual                                y_pred  \\\n",
       "0                      hemolytic anemia                      hemolytic anemia   \n",
       "1  vitamin b12/folate deficiency anemia  vitamin b12/folate deficiency anemia   \n",
       "2                iron deficiency anemia                iron deficiency anemia   \n",
       "3                             no anemia                             no anemia   \n",
       "4                inconclusive diagnosis                inconclusive diagnosis   \n",
       "\n",
       "   pathway_length  \n",
       "0             4.0  \n",
       "1             4.0  \n",
       "2             5.0  \n",
       "3             2.0  \n",
       "4             4.0  "
      ]
     },
     "execution_count": 9,
     "metadata": {},
     "output_type": "execute_result"
    }
   ],
   "source": [
    "results_df.head()"
   ]
  },
  {
   "cell_type": "code",
   "execution_count": 10,
   "id": "52b55a4c",
   "metadata": {
    "pycharm": {
     "name": "#%%\n"
    }
   },
   "outputs": [
    {
     "data": {
      "text/plain": [
       "(92.80000000000001, 90.78695337598317, 95.59099116749978, 4.608)"
      ]
     },
     "execution_count": 10,
     "metadata": {},
     "output_type": "execute_result"
    }
   ],
   "source": [
    "acc, f1, roc_auc = utils.test(results_df.y_actual, results_df.y_pred)\n",
    "mean_pathway_length = utils.compute_mean_pathway_length(results_df)\n",
    "acc, f1, roc_auc, mean_pathway_length"
   ]
  }
 ],
 "metadata": {
  "kernelspec": {
   "display_name": "Python 3 (ipykernel)",
   "language": "python",
   "name": "python3"
  },
  "language_info": {
   "codemirror_mode": {
    "name": "ipython",
    "version": 3
   },
   "file_extension": ".py",
   "mimetype": "text/x-python",
   "name": "python",
   "nbconvert_exporter": "python",
   "pygments_lexer": "ipython3",
   "version": "3.10.12"
  }
 },
 "nbformat": 4,
 "nbformat_minor": 5
}